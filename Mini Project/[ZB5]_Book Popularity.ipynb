{
 "cells": [
  {
   "cell_type": "markdown",
   "metadata": {},
   "source": [
    "## EDA 과제 - Book Popularity"
   ]
  },
  {
   "cell_type": "markdown",
   "metadata": {},
   "source": [
    "- 과제 목표: TIOBE index 상위 9개 언어와 R에 대해 한국에서 출판된 도서 정보를 기준으로 프로그래밍 언어의 인기도 분석 "
   ]
  },
  {
   "cell_type": "markdown",
   "metadata": {},
   "source": [
    "#### 주의 사항 \n",
    "- TIOBE INDEX 20위까지 확장해서 검색한 후 데이터 수집 \n",
    "- 책 가격과 페이지 수 함께 수집 \n",
    "- 검색어 'C'는 검색 결과가 2000건 이상이기 때문에 추가 작업 필요 \n"
   ]
  },
  {
   "cell_type": "code",
   "execution_count": 303,
   "metadata": {},
   "outputs": [],
   "source": [
    "import os\n",
    "import sys\n",
    "import urllib.request\n",
    "import json \n",
    "import datetime \n",
    "import pandas as pd \n",
    "import re\n",
    "import matplotlib.pyplot as plt\n",
    "import seaborn as sns \n",
    "import plotly.express as px\n",
    "import plotly.graph_objects as go\n",
    "from plotly.subplots import make_subplots\n",
    "import warnings\n",
    "warnings.filterwarnings('ignore')"
   ]
  },
  {
   "cell_type": "code",
   "execution_count": 4,
   "metadata": {},
   "outputs": [],
   "source": [
    "client_id = \"eXEW1zGdvBb9iT4yudBS\"\n",
    "client_secret = \"jpdR0qWR7m\""
   ]
  },
  {
   "cell_type": "markdown",
   "metadata": {},
   "source": [
    "#### 문제 1 "
   ]
  },
  {
   "cell_type": "markdown",
   "metadata": {},
   "source": [
    "> 과제 설명 첫 두 페이지에 제시한 TIOBE INDEX의 상위 9개 언어에 R(14위)까지 포함해서 총 10개 언어에 대해 출판 책 정보를 수집하세요"
   ]
  },
  {
   "cell_type": "markdown",
   "metadata": {},
   "source": [
    "##### 데이터 크롤링"
   ]
  },
  {
   "cell_type": "code",
   "execution_count": null,
   "metadata": {},
   "outputs": [],
   "source": [
    "# 검색할 프로그래밍 언어 리스트에 저장 \n",
    "\n",
    "list_language = ['python', '파이썬', 'C', 'C언어', 'Java', '자바', 'C++', 'C#', 'Visual Basic', '비쥬얼 베이직', 'JavaScript', '자바스크립트', 'SQL', '에스큐엘', 'PHP', 'R']"
   ]
  },
  {
   "cell_type": "code",
   "execution_count": 329,
   "metadata": {},
   "outputs": [],
   "source": [
    "# 검색 url 생성 함수\n",
    "\n",
    "def gen_search_url(api_node, search_text, start_num, disp_num):\n",
    "    base = \"https://openapi.naver.com/v1/search\"\n",
    "    node = \"/\" + api_node + \"_adv.json\"\n",
    "    param_start = \"?start=\" + str(start_num)\n",
    "    param_disp = \"&display=\" + str(disp_num)\n",
    "    d_titl = \"&d_titl=\" + urllib.parse.quote(search_text)\n",
    "    \n",
    "    return base + node + param_start + param_disp + d_titl + '&d_catg=280'"
   ]
  },
  {
   "cell_type": "code",
   "execution_count": 330,
   "metadata": {},
   "outputs": [],
   "source": [
    "# 검색 결과 가져오는 함수\n",
    "\n",
    "def get_result_onpage(url):\n",
    "    request = urllib.request.Request(url)\n",
    "    request.add_header(\"X-Naver-Client-Id\", client_id)\n",
    "    request.add_header(\"X-Naver-Client-Secret\", client_secret)\n",
    "    response = urllib.request.urlopen(request)\n",
    "    print(\"[%s] Url Request Success\" % datetime.datetime.now())\n",
    "    return json.loads(response.read().decode(\"utf-8\"))"
   ]
  },
  {
   "cell_type": "code",
   "execution_count": 333,
   "metadata": {},
   "outputs": [],
   "source": [
    "# 검색 결과 데이터 프레임화 함수\n",
    "\n",
    "def get_fields(json_data):\n",
    "\n",
    "    title = [each[\"title\"] for each in json_data[\"items\"]]\n",
    "    author = [each[\"author\"] for each in json_data[\"items\"]]\n",
    "    price = [each[\"price\"] for each in json_data[\"items\"]]\n",
    "    publisher = [each[\"publisher\"] for each in json_data[\"items\"]]\n",
    "    pubdate = [each[\"pubdate\"] for each in json_data[\"items\"]]\n",
    "    isbn = [each[\"isbn\"] for each in json_data[\"items\"]]\n",
    "    link = [each[\"link\"] for each in json_data[\"items\"]]\n",
    "\n",
    "    result_pd = pd.DataFrame({\n",
    "        \"title\": title, \n",
    "        \"author\": author, \n",
    "        \"price\": price, \n",
    "        \"publisher\": publisher,  \n",
    "        \"pubdate\": pubdate,\n",
    "        \"isbn\": isbn,\n",
    "        \"link\": link\n",
    "    }, columns=[\"title\", \"author\", \"price\", \"publisher\", \"pubdate\", \"isbn\", \"link\"]) \n",
    "    return result_pd"
   ]
  },
  {
   "cell_type": "code",
   "execution_count": 334,
   "metadata": {},
   "outputs": [
    {
     "name": "stdout",
     "output_type": "stream",
     "text": [
      "[2022-04-26 22:26:18.929378] Url Request Success\n"
     ]
    },
    {
     "data": {
      "text/plain": [
       "{'lastBuildDate': 'Tue, 26 Apr 2022 22:25:46 +0900',\n",
       " 'total': 766,\n",
       " 'start': 1,\n",
       " 'display': 5,\n",
       " 'items': [{'title': '만들면서 배우는 <b>파이썬</b>과 40개의 작품들 (자동화, 크롤링, 이미지처리, 데이터분석, 웹페이지, GUI 프로그램, 게임)',\n",
       "   'link': 'http://book.naver.com/bookdb/book_detail.php?bid=21982844',\n",
       "   'image': 'https://bookthumb-phinf.pstatic.net/cover/219/828/21982844.jpg?type=m1&udate=20220221',\n",
       "   'author': '장문철',\n",
       "   'price': '18800',\n",
       "   'discount': '16920',\n",
       "   'publisher': '앤써북',\n",
       "   'pubdate': '20220228',\n",
       "   'isbn': '1185553932 9791185553931',\n",
       "   'description': '이 책은 내 업무와 생활에 바로 적용할 수 있는 40개의 프로그램을 직접 코딩해서 만들어보고, 동시에 <b>파이썬</b>을 자연스럽게 이해할 수 있게 구성하였다!<b>파이썬</b> 기초 문법 떼고 자동화, 크롤링, 이미지처리, 데이터분석, 웹페이지, GUI 프로그램, 게임, 인공지능 관련 40개 프로그램 직접 <b>파이썬</b> 코딩하며 만들어... '},\n",
       "  {'title': '이것이 취업을 위한 코딩 테스트다 with <b>파이썬</b> (취업과 이직을 결정하는 알고리즘 인터뷰 완벽 가이드)',\n",
       "   'link': 'http://book.naver.com/bookdb/book_detail.php?bid=16439154',\n",
       "   'image': 'https://bookthumb-phinf.pstatic.net/cover/164/391/16439154.jpg?type=m1&udate=20200928',\n",
       "   'author': '나동빈',\n",
       "   'price': '34000',\n",
       "   'discount': '30600',\n",
       "   'publisher': '한빛미디어',\n",
       "   'pubdate': '20200805',\n",
       "   'isbn': '1162243074 9791162243077',\n",
       "   'description': '8가지 핵심 알고리즘 이론을 쉽게 설명하고, 관련 실전 문제를 풀이했다. 출제 유형 분석, 이론 설명, 기출문제 풀이까지! 어떤 코딩 테스트도 이 책 한 권으로 대비할 수 있을 것이다. 코딩 테스트에서 주로 선택하는 <b>파이썬</b>을 기반으로 설명되어 있으며, <b>파이썬</b> 코드 외에도 C/C++, 자바 코드를 추가로 제공한다.'},\n",
       "  {'title': 'Do it! 점프 투 <b>파이썬</b>',\n",
       "   'link': 'http://book.naver.com/bookdb/book_detail.php?bid=15052904',\n",
       "   'image': 'https://bookthumb-phinf.pstatic.net/cover/150/529/15052904.jpg?type=m1&udate=20200910',\n",
       "   'author': '박응용',\n",
       "   'price': '18800',\n",
       "   'discount': '16920',\n",
       "   'publisher': '이지스퍼블리싱',\n",
       "   'pubdate': '20190620',\n",
       "   'isbn': '1163030910 9791163030911',\n",
       "   'description': '<b>파이썬</b> 4년 연속 베스트셀러 1위!\\n《DO IT! 점프 투 <b>파이썬</b>》 전면 개정판 출시!문과생도 중고등학생도 직장인도 프로그래밍에 눈뜨게 만든 바로 그 책이... 점프 투 <b>파이썬</b>》으로 출간되었던 이 책은 약 4년 동안의 피드백을 반영하여 초보자가 더 빠르게 입문하고, 더 깊이 있게 공부할 수 있도록 개정되었다.... '},\n",
       "  {'title': '혼자 공부하는 <b>파이썬</b> (<b>파이썬</b> 최신 버전 반영)',\n",
       "   'link': 'http://book.naver.com/bookdb/book_detail.php?bid=15028688',\n",
       "   'image': 'https://bookthumb-phinf.pstatic.net/cover/150/286/15028688.jpg?type=m1&udate=20220129',\n",
       "   'author': '윤인성',\n",
       "   'price': '18000',\n",
       "   'discount': '16200',\n",
       "   'publisher': '한빛미디어',\n",
       "   'pubdate': '20190610',\n",
       "   'isbn': '1162241888 9791162241882',\n",
       "   'description': '1:1 과외하듯 배우는 <b>파이썬</b> 프로그래밍 자습서(<b>파이썬</b> 최신 버전 반영)\\n27명의 베타리더 검증으로, ‘함께 만든’ 입문자 맞춤형 도서\\n\\n이 책은 독학으로 프로그래밍 언어를 처음 배우려는 입문자가, 혹은 <b>파이썬</b>을 배우려는 입문자가 ‘꼭 필요한 내용을 제대로’ 학습할 수 있도록 구성했다. ‘무엇을’... '},\n",
       "  {'title': '<b>파이썬</b> for Beginner (쉽고 빠르게 익히는 프로그래밍의 기본 원리)',\n",
       "   'link': 'http://book.naver.com/bookdb/book_detail.php?bid=21371083',\n",
       "   'image': 'https://bookthumb-phinf.pstatic.net/cover/213/710/21371083.jpg?type=m1&udate=20211223',\n",
       "   'author': '우재남',\n",
       "   'price': '25000',\n",
       "   'discount': '25000',\n",
       "   'publisher': '한빛아카데미',\n",
       "   'pubdate': '20220103',\n",
       "   'isbn': '1156645743 9791156645740',\n",
       "   'description': '일단 따라하면 바로 이해되는 <b>파이썬</b> 프로그래밍<b>파이썬</b>을 처음 접하는 독자를 대상으로 일대일 수업처럼 자세히 설명한 책입니다.꼭 알아야 할 핵심... 일단 코드를 입력하고 실행하다 보면 어느새 <b>파이썬</b> 프로그래밍과 친숙해져 있을 것입니다!※ 본 도서는 대학 강의용 교재로 개발되었으므로 연습문제 해답은... '}]}"
      ]
     },
     "execution_count": 334,
     "metadata": {},
     "output_type": "execute_result"
    }
   ],
   "source": [
    "# url = gen_search_url(\"book\", '파이썬', 1, 5)\n",
    "# one_result = get_result_onpage(url)\n",
    "# result = get_fields(one_result)\n",
    "# one_result\n"
   ]
  },
  {
   "cell_type": "code",
   "execution_count": 335,
   "metadata": {},
   "outputs": [
    {
     "name": "stdout",
     "output_type": "stream",
     "text": [
      "[2022-04-26 22:26:29.865311] Url Request Success\n",
      "[2022-04-26 22:26:30.308180] Url Request Success\n",
      "[2022-04-26 22:26:30.498771] Url Request Success\n",
      "[2022-04-26 22:26:30.674979] Url Request Success\n",
      "[2022-04-26 22:26:30.861993] Url Request Success\n",
      "[2022-04-26 22:26:31.084980] Url Request Success\n",
      "[2022-04-26 22:26:31.262992] Url Request Success\n",
      "[2022-04-26 22:26:31.500257] Url Request Success\n",
      "[2022-04-26 22:26:31.712242] Url Request Success\n",
      "[2022-04-26 22:26:31.905241] Url Request Success\n",
      "[2022-04-26 22:26:32.361247] Url Request Success\n",
      "[2022-04-26 22:26:32.817240] Url Request Success\n",
      "[2022-04-26 22:26:33.238245] Url Request Success\n",
      "[2022-04-26 22:26:33.691518] Url Request Success\n",
      "[2022-04-26 22:26:34.103492] Url Request Success\n",
      "[2022-04-26 22:26:34.523471] Url Request Success\n",
      "[2022-04-26 22:26:34.941426] Url Request Success\n",
      "[2022-04-26 22:26:35.298783] Url Request Success\n",
      "[2022-04-26 22:26:35.462648] Url Request Success\n",
      "[2022-04-26 22:26:35.641638] Url Request Success\n",
      "[2022-04-26 22:26:36.079156] Url Request Success\n",
      "[2022-04-26 22:26:36.645311] Url Request Success\n",
      "[2022-04-26 22:26:37.176069] Url Request Success\n",
      "[2022-04-26 22:26:37.576530] Url Request Success\n",
      "[2022-04-26 22:26:37.973520] Url Request Success\n",
      "[2022-04-26 22:26:38.376274] Url Request Success\n",
      "[2022-04-26 22:26:38.786099] Url Request Success\n",
      "[2022-04-26 22:26:39.214969] Url Request Success\n",
      "[2022-04-26 22:26:39.606990] Url Request Success\n",
      "[2022-04-26 22:26:40.025802] Url Request Success\n",
      "[2022-04-26 22:26:40.479854] Url Request Success\n",
      "[2022-04-26 22:26:40.939614] Url Request Success\n",
      "[2022-04-26 22:26:41.381720] Url Request Success\n",
      "[2022-04-26 22:26:41.788762] Url Request Success\n",
      "[2022-04-26 22:26:42.217335] Url Request Success\n",
      "[2022-04-26 22:26:42.607367] Url Request Success\n",
      "[2022-04-26 22:26:42.995735] Url Request Success\n",
      "[2022-04-26 22:26:43.267812] Url Request Success\n",
      "[2022-04-26 22:26:43.430749] Url Request Success\n",
      "[2022-04-26 22:26:43.626746] Url Request Success\n",
      "[2022-04-26 22:26:44.054193] Url Request Success\n",
      "[2022-04-26 22:26:44.576870] Url Request Success\n",
      "[2022-04-26 22:26:45.003336] Url Request Success\n",
      "[2022-04-26 22:26:45.439655] Url Request Success\n",
      "[2022-04-26 22:26:45.860474] Url Request Success\n",
      "[2022-04-26 22:26:46.296259] Url Request Success\n",
      "[2022-04-26 22:26:46.726054] Url Request Success\n",
      "[2022-04-26 22:26:47.065973] Url Request Success\n",
      "[2022-04-26 22:26:47.391528] Url Request Success\n",
      "[2022-04-26 22:26:47.543684] Url Request Success\n",
      "[2022-04-26 22:26:47.931365] Url Request Success\n",
      "[2022-04-26 22:26:48.361102] Url Request Success\n",
      "[2022-04-26 22:26:48.771725] Url Request Success\n",
      "[2022-04-26 22:26:49.156978] Url Request Success\n",
      "[2022-04-26 22:26:49.526549] Url Request Success\n",
      "[2022-04-26 22:26:49.886790] Url Request Success\n",
      "[2022-04-26 22:26:50.271854] Url Request Success\n",
      "[2022-04-26 22:26:50.611584] Url Request Success\n",
      "[2022-04-26 22:26:50.919976] Url Request Success\n",
      "[2022-04-26 22:26:51.211407] Url Request Success\n",
      "[2022-04-26 22:26:51.623436] Url Request Success\n",
      "[2022-04-26 22:26:52.027753] Url Request Success\n",
      "[2022-04-26 22:26:52.538746] Url Request Success\n",
      "[2022-04-26 22:26:52.740652] Url Request Success\n",
      "[2022-04-26 22:26:52.922141] Url Request Success\n",
      "[2022-04-26 22:26:53.084866] Url Request Success\n",
      "[2022-04-26 22:26:53.252813] Url Request Success\n",
      "[2022-04-26 22:26:53.421946] Url Request Success\n",
      "[2022-04-26 22:26:53.577920] Url Request Success\n",
      "[2022-04-26 22:26:53.737935] Url Request Success\n",
      "[2022-04-26 22:26:54.175824] Url Request Success\n",
      "[2022-04-26 22:26:54.594943] Url Request Success\n",
      "[2022-04-26 22:26:54.985355] Url Request Success\n",
      "[2022-04-26 22:26:55.239514] Url Request Success\n",
      "[2022-04-26 22:26:55.382459] Url Request Success\n",
      "[2022-04-26 22:26:55.542498] Url Request Success\n",
      "[2022-04-26 22:26:55.715509] Url Request Success\n",
      "[2022-04-26 22:26:55.889502] Url Request Success\n",
      "[2022-04-26 22:26:56.069337] Url Request Success\n",
      "[2022-04-26 22:26:56.296324] Url Request Success\n",
      "[2022-04-26 22:26:56.469328] Url Request Success\n",
      "[2022-04-26 22:26:56.667331] Url Request Success\n",
      "[2022-04-26 22:26:56.830069] Url Request Success\n",
      "[2022-04-26 22:26:57.003740] Url Request Success\n",
      "[2022-04-26 22:26:57.167766] Url Request Success\n",
      "[2022-04-26 22:26:57.333746] Url Request Success\n",
      "[2022-04-26 22:26:57.489759] Url Request Success\n",
      "[2022-04-26 22:26:57.658492] Url Request Success\n",
      "[2022-04-26 22:26:57.811044] Url Request Success\n",
      "[2022-04-26 22:26:57.962013] Url Request Success\n",
      "[2022-04-26 22:26:58.460870] Url Request Success\n",
      "[2022-04-26 22:26:58.907052] Url Request Success\n",
      "[2022-04-26 22:26:59.126056] Url Request Success\n",
      "[2022-04-26 22:26:59.306056] Url Request Success\n",
      "[2022-04-26 22:26:59.475503] Url Request Success\n",
      "[2022-04-26 22:26:59.650931] Url Request Success\n",
      "[2022-04-26 22:26:59.804927] Url Request Success\n",
      "[2022-04-26 22:26:59.968132] Url Request Success\n",
      "[2022-04-26 22:27:00.142120] Url Request Success\n",
      "[2022-04-26 22:27:00.299119] Url Request Success\n",
      "[2022-04-26 22:27:00.723358] Url Request Success\n",
      "[2022-04-26 22:27:01.132839] Url Request Success\n",
      "[2022-04-26 22:27:01.540413] Url Request Success\n",
      "[2022-04-26 22:27:01.731113] Url Request Success\n",
      "[2022-04-26 22:27:01.898107] Url Request Success\n",
      "[2022-04-26 22:27:02.056705] Url Request Success\n",
      "[2022-04-26 22:27:02.211724] Url Request Success\n",
      "[2022-04-26 22:27:02.367731] Url Request Success\n",
      "[2022-04-26 22:27:02.521971] Url Request Success\n",
      "[2022-04-26 22:27:02.705003] Url Request Success\n",
      "[2022-04-26 22:27:03.138608] Url Request Success\n",
      "[2022-04-26 22:27:03.558884] Url Request Success\n",
      "[2022-04-26 22:27:03.957806] Url Request Success\n",
      "[2022-04-26 22:27:04.374655] Url Request Success\n",
      "[2022-04-26 22:27:04.682647] Url Request Success\n",
      "[2022-04-26 22:27:04.846655] Url Request Success\n",
      "[2022-04-26 22:27:05.022642] Url Request Success\n",
      "[2022-04-26 22:27:05.177277] Url Request Success\n",
      "[2022-04-26 22:27:05.345297] Url Request Success\n",
      "[2022-04-26 22:27:05.497606] Url Request Success\n",
      "[2022-04-26 22:27:05.666744] Url Request Success\n",
      "[2022-04-26 22:27:05.810968] Url Request Success\n",
      "[2022-04-26 22:27:05.970915] Url Request Success\n",
      "[2022-04-26 22:27:06.122654] Url Request Success\n",
      "[2022-04-26 22:27:06.302641] Url Request Success\n",
      "[2022-04-26 22:27:06.451732] Url Request Success\n",
      "[2022-04-26 22:27:06.614728] Url Request Success\n",
      "[2022-04-26 22:27:06.766086] Url Request Success\n",
      "[2022-04-26 22:27:06.926083] Url Request Success\n",
      "[2022-04-26 22:27:07.093065] Url Request Success\n",
      "[2022-04-26 22:27:07.514598] Url Request Success\n",
      "[2022-04-26 22:27:07.888631] Url Request Success\n",
      "[2022-04-26 22:27:08.053672] Url Request Success\n",
      "[2022-04-26 22:27:08.202300] Url Request Success\n",
      "[2022-04-26 22:27:08.355296] Url Request Success\n",
      "[2022-04-26 22:27:08.499295] Url Request Success\n",
      "[2022-04-26 22:27:08.666738] Url Request Success\n",
      "[2022-04-26 22:27:08.821749] Url Request Success\n",
      "[2022-04-26 22:27:08.984737] Url Request Success\n",
      "[2022-04-26 22:27:09.156745] Url Request Success\n",
      "[2022-04-26 22:27:09.538817] Url Request Success\n",
      "[2022-04-26 22:27:09.957667] Url Request Success\n",
      "[2022-04-26 22:27:10.340767] Url Request Success\n",
      "[2022-04-26 22:27:10.709998] Url Request Success\n",
      "[2022-04-26 22:27:10.910318] Url Request Success\n",
      "[2022-04-26 22:27:11.073509] Url Request Success\n",
      "[2022-04-26 22:27:11.236072] Url Request Success\n",
      "[2022-04-26 22:27:11.389849] Url Request Success\n",
      "[2022-04-26 22:27:11.577851] Url Request Success\n",
      "[2022-04-26 22:27:11.807850] Url Request Success\n"
     ]
    }
   ],
   "source": [
    "# 네이버 API 검색 결과 수집 및 데이터 프레임 생성 \n",
    "\n",
    "list_language = ['python', '파이썬', 'C', 'Java', '자바', 'C++', 'C#', 'VisualBasic', '비쥬얼베이직', 'JavaScript', '자바스크립트', 'SQL', '에스큐엘', 'PHP', 'R']\n",
    "df_book = pd.DataFrame(columns=['title', 'author', 'price', 'publisher', 'pubdate', 'isbn', 'link', 'language'])\n",
    "\n",
    "for language in list_language:\n",
    "    for i in range(1, 1000, 100):\n",
    "        url = gen_search_url(\"book\", language, i, 100)\n",
    "        one_result = get_result_onpage(url)\n",
    "        result = get_fields(one_result)\n",
    "        result['language'] = language\n",
    "        df_book = pd.concat([df_book, result], axis=0, ignore_index=True)"
   ]
  },
  {
   "cell_type": "code",
   "execution_count": 336,
   "metadata": {},
   "outputs": [
    {
     "data": {
      "text/html": [
       "<div>\n",
       "<style scoped>\n",
       "    .dataframe tbody tr th:only-of-type {\n",
       "        vertical-align: middle;\n",
       "    }\n",
       "\n",
       "    .dataframe tbody tr th {\n",
       "        vertical-align: top;\n",
       "    }\n",
       "\n",
       "    .dataframe thead th {\n",
       "        text-align: right;\n",
       "    }\n",
       "</style>\n",
       "<table border=\"1\" class=\"dataframe\">\n",
       "  <thead>\n",
       "    <tr style=\"text-align: right;\">\n",
       "      <th></th>\n",
       "      <th>title</th>\n",
       "      <th>author</th>\n",
       "      <th>price</th>\n",
       "      <th>publisher</th>\n",
       "      <th>pubdate</th>\n",
       "      <th>isbn</th>\n",
       "      <th>link</th>\n",
       "      <th>language</th>\n",
       "    </tr>\n",
       "  </thead>\n",
       "  <tbody>\n",
       "    <tr>\n",
       "      <th>0</th>\n",
       "      <td>파이썬 코딩의 기술 (Effective &lt;b&gt;Python&lt;/b&gt; 2nd,똑똑하게 코...</td>\n",
       "      <td>브렛 슬라킨</td>\n",
       "      <td>32000</td>\n",
       "      <td>길벗</td>\n",
       "      <td>20201030</td>\n",
       "      <td>1165213192 9791165213190</td>\n",
       "      <td>http://book.naver.com/bookdb/book_detail.php?b...</td>\n",
       "      <td>python</td>\n",
       "    </tr>\n",
       "    <tr>\n",
       "      <th>1</th>\n",
       "      <td>SPSS, R, &lt;b&gt;Python&lt;/b&gt;을 활용한 Kaggle 데이터 전략 실무 연...</td>\n",
       "      <td>김광용|정성원|이성택|이재모|임은택</td>\n",
       "      <td>28000</td>\n",
       "      <td>청람</td>\n",
       "      <td>20220415</td>\n",
       "      <td>8959728756 9788959728756</td>\n",
       "      <td>http://book.naver.com/bookdb/book_detail.php?b...</td>\n",
       "      <td>python</td>\n",
       "    </tr>\n",
       "    <tr>\n",
       "      <th>2</th>\n",
       "      <td>파이썬 딥러닝 파이토치 (&lt;b&gt;Python&lt;/b&gt; Deep Learning PyTo...</td>\n",
       "      <td>이경택|방성수|안상준</td>\n",
       "      <td>25000</td>\n",
       "      <td>정보문화사</td>\n",
       "      <td>20201008</td>\n",
       "      <td>8956748578 9788956748573</td>\n",
       "      <td>http://book.naver.com/bookdb/book_detail.php?b...</td>\n",
       "      <td>python</td>\n",
       "    </tr>\n",
       "    <tr>\n",
       "      <th>3</th>\n",
       "      <td>OpenCV.&lt;b&gt;Python&lt;/b&gt; 머신러닝 딥러닝 프로그래밍</td>\n",
       "      <td>김동근</td>\n",
       "      <td>26000</td>\n",
       "      <td>가메</td>\n",
       "      <td>20220331</td>\n",
       "      <td>8980783116 9788980783113</td>\n",
       "      <td>http://book.naver.com/bookdb/book_detail.php?b...</td>\n",
       "      <td>python</td>\n",
       "    </tr>\n",
       "    <tr>\n",
       "      <th>4</th>\n",
       "      <td>영상 처리 및 응용 (OpenCV-&lt;b&gt;Python&lt;/b&gt;으로 배우는)</td>\n",
       "      <td>정성환</td>\n",
       "      <td>35000</td>\n",
       "      <td>생능출판</td>\n",
       "      <td>20201124</td>\n",
       "      <td>8970504419 9788970504414</td>\n",
       "      <td>http://book.naver.com/bookdb/book_detail.php?b...</td>\n",
       "      <td>python</td>\n",
       "    </tr>\n",
       "  </tbody>\n",
       "</table>\n",
       "</div>"
      ],
      "text/plain": [
       "                                               title               author  \\\n",
       "0  파이썬 코딩의 기술 (Effective <b>Python</b> 2nd,똑똑하게 코...               브렛 슬라킨   \n",
       "1  SPSS, R, <b>Python</b>을 활용한 Kaggle 데이터 전략 실무 연...  김광용|정성원|이성택|이재모|임은택   \n",
       "2  파이썬 딥러닝 파이토치 (<b>Python</b> Deep Learning PyTo...          이경택|방성수|안상준   \n",
       "3                OpenCV.<b>Python</b> 머신러닝 딥러닝 프로그래밍                  김동근   \n",
       "4            영상 처리 및 응용 (OpenCV-<b>Python</b>으로 배우는)                  정성환   \n",
       "\n",
       "   price publisher   pubdate                      isbn  \\\n",
       "0  32000        길벗  20201030  1165213192 9791165213190   \n",
       "1  28000        청람  20220415  8959728756 9788959728756   \n",
       "2  25000     정보문화사  20201008  8956748578 9788956748573   \n",
       "3  26000        가메  20220331  8980783116 9788980783113   \n",
       "4  35000      생능출판  20201124  8970504419 9788970504414   \n",
       "\n",
       "                                                link language  \n",
       "0  http://book.naver.com/bookdb/book_detail.php?b...   python  \n",
       "1  http://book.naver.com/bookdb/book_detail.php?b...   python  \n",
       "2  http://book.naver.com/bookdb/book_detail.php?b...   python  \n",
       "3  http://book.naver.com/bookdb/book_detail.php?b...   python  \n",
       "4  http://book.naver.com/bookdb/book_detail.php?b...   python  "
      ]
     },
     "execution_count": 336,
     "metadata": {},
     "output_type": "execute_result"
    }
   ],
   "source": [
    "# 여유가 된다면 title의 태그를 제거해보자. \n",
    "df_book.head()"
   ]
  },
  {
   "cell_type": "markdown",
   "metadata": {},
   "source": [
    "##### 한글, 영어로 표기가 다른 언어 통일해주기 "
   ]
  },
  {
   "cell_type": "code",
   "execution_count": 337,
   "metadata": {},
   "outputs": [],
   "source": [
    "df_book['language'] =  df_book['language'].str.replace('파이썬', 'python')\n",
    "df_book['language'] =  df_book['language'].str.replace('자바스크립트', 'JavaScript')\n",
    "df_book['language'] =  df_book['language'].str.replace('자바', 'Java')\n",
    "df_book['language'] =  df_book['language'].str.replace('비쥬얼베이직', 'VisualBasic')"
   ]
  },
  {
   "cell_type": "code",
   "execution_count": 338,
   "metadata": {},
   "outputs": [
    {
     "data": {
      "text/html": [
       "<div>\n",
       "<style scoped>\n",
       "    .dataframe tbody tr th:only-of-type {\n",
       "        vertical-align: middle;\n",
       "    }\n",
       "\n",
       "    .dataframe tbody tr th {\n",
       "        vertical-align: top;\n",
       "    }\n",
       "\n",
       "    .dataframe thead th {\n",
       "        text-align: right;\n",
       "    }\n",
       "</style>\n",
       "<table border=\"1\" class=\"dataframe\">\n",
       "  <thead>\n",
       "    <tr style=\"text-align: right;\">\n",
       "      <th></th>\n",
       "      <th>title</th>\n",
       "      <th>author</th>\n",
       "      <th>price</th>\n",
       "      <th>publisher</th>\n",
       "      <th>pubdate</th>\n",
       "      <th>isbn</th>\n",
       "      <th>link</th>\n",
       "    </tr>\n",
       "    <tr>\n",
       "      <th>language</th>\n",
       "      <th></th>\n",
       "      <th></th>\n",
       "      <th></th>\n",
       "      <th></th>\n",
       "      <th></th>\n",
       "      <th></th>\n",
       "      <th></th>\n",
       "    </tr>\n",
       "  </thead>\n",
       "  <tbody>\n",
       "    <tr>\n",
       "      <th>C</th>\n",
       "      <td>1000</td>\n",
       "      <td>1000</td>\n",
       "      <td>1000</td>\n",
       "      <td>1000</td>\n",
       "      <td>1000</td>\n",
       "      <td>1000</td>\n",
       "      <td>1000</td>\n",
       "    </tr>\n",
       "    <tr>\n",
       "      <th>C#</th>\n",
       "      <td>308</td>\n",
       "      <td>308</td>\n",
       "      <td>308</td>\n",
       "      <td>308</td>\n",
       "      <td>308</td>\n",
       "      <td>308</td>\n",
       "      <td>308</td>\n",
       "    </tr>\n",
       "    <tr>\n",
       "      <th>C++</th>\n",
       "      <td>1000</td>\n",
       "      <td>1000</td>\n",
       "      <td>1000</td>\n",
       "      <td>1000</td>\n",
       "      <td>1000</td>\n",
       "      <td>1000</td>\n",
       "      <td>1000</td>\n",
       "    </tr>\n",
       "    <tr>\n",
       "      <th>Java</th>\n",
       "      <td>1654</td>\n",
       "      <td>1654</td>\n",
       "      <td>1654</td>\n",
       "      <td>1654</td>\n",
       "      <td>1654</td>\n",
       "      <td>1654</td>\n",
       "      <td>1654</td>\n",
       "    </tr>\n",
       "    <tr>\n",
       "      <th>JavaScript</th>\n",
       "      <td>510</td>\n",
       "      <td>510</td>\n",
       "      <td>510</td>\n",
       "      <td>510</td>\n",
       "      <td>510</td>\n",
       "      <td>510</td>\n",
       "      <td>510</td>\n",
       "    </tr>\n",
       "    <tr>\n",
       "      <th>PHP</th>\n",
       "      <td>205</td>\n",
       "      <td>205</td>\n",
       "      <td>205</td>\n",
       "      <td>205</td>\n",
       "      <td>205</td>\n",
       "      <td>205</td>\n",
       "      <td>205</td>\n",
       "    </tr>\n",
       "    <tr>\n",
       "      <th>R</th>\n",
       "      <td>406</td>\n",
       "      <td>406</td>\n",
       "      <td>406</td>\n",
       "      <td>406</td>\n",
       "      <td>406</td>\n",
       "      <td>406</td>\n",
       "      <td>406</td>\n",
       "    </tr>\n",
       "    <tr>\n",
       "      <th>SQL</th>\n",
       "      <td>471</td>\n",
       "      <td>471</td>\n",
       "      <td>471</td>\n",
       "      <td>471</td>\n",
       "      <td>471</td>\n",
       "      <td>471</td>\n",
       "      <td>471</td>\n",
       "    </tr>\n",
       "    <tr>\n",
       "      <th>VisualBasic</th>\n",
       "      <td>363</td>\n",
       "      <td>363</td>\n",
       "      <td>363</td>\n",
       "      <td>363</td>\n",
       "      <td>363</td>\n",
       "      <td>363</td>\n",
       "      <td>363</td>\n",
       "    </tr>\n",
       "    <tr>\n",
       "      <th>python</th>\n",
       "      <td>973</td>\n",
       "      <td>973</td>\n",
       "      <td>973</td>\n",
       "      <td>973</td>\n",
       "      <td>973</td>\n",
       "      <td>973</td>\n",
       "      <td>973</td>\n",
       "    </tr>\n",
       "  </tbody>\n",
       "</table>\n",
       "</div>"
      ],
      "text/plain": [
       "             title  author  price  publisher  pubdate  isbn  link\n",
       "language                                                         \n",
       "C             1000    1000   1000       1000     1000  1000  1000\n",
       "C#             308     308    308        308      308   308   308\n",
       "C++           1000    1000   1000       1000     1000  1000  1000\n",
       "Java          1654    1654   1654       1654     1654  1654  1654\n",
       "JavaScript     510     510    510        510      510   510   510\n",
       "PHP            205     205    205        205      205   205   205\n",
       "R              406     406    406        406      406   406   406\n",
       "SQL            471     471    471        471      471   471   471\n",
       "VisualBasic    363     363    363        363      363   363   363\n",
       "python         973     973    973        973      973   973   973"
      ]
     },
     "execution_count": 338,
     "metadata": {},
     "output_type": "execute_result"
    }
   ],
   "source": [
    "df_book.groupby(['language']).count()"
   ]
  },
  {
   "cell_type": "markdown",
   "metadata": {},
   "source": [
    "#### 문제 2"
   ]
  },
  {
   "cell_type": "markdown",
   "metadata": {},
   "source": [
    "> 문제 1에서 수집한 데이터를 ISBN 정보로 unique 검사 후 중복 데이터를 정리 하세요"
   ]
  },
  {
   "cell_type": "code",
   "execution_count": 218,
   "metadata": {},
   "outputs": [
    {
     "data": {
      "text/plain": [
       "5681"
      ]
     },
     "execution_count": 218,
     "metadata": {},
     "output_type": "execute_result"
    }
   ],
   "source": [
    "len(df_book['isbn'].unique())"
   ]
  },
  {
   "cell_type": "code",
   "execution_count": 219,
   "metadata": {},
   "outputs": [
    {
     "data": {
      "text/plain": [
       "6890"
      ]
     },
     "execution_count": 219,
     "metadata": {},
     "output_type": "execute_result"
    }
   ],
   "source": [
    "# 중복 제거 전 \n",
    "len(df_book)"
   ]
  },
  {
   "cell_type": "code",
   "execution_count": 220,
   "metadata": {},
   "outputs": [],
   "source": [
    "# Java 검색 결과에 Javascript 검색결과가 포함되기 때문에 둘 사이의 중복을 제거하면서 Javascript 검색 결과를 유지하기 위해 keep='last' 지정 \n",
    "\n",
    "df_book2 = df_book.drop_duplicates(['isbn'], keep='last', inplace=True, ignore_index=True)"
   ]
  },
  {
   "cell_type": "code",
   "execution_count": 221,
   "metadata": {},
   "outputs": [
    {
     "data": {
      "text/plain": [
       "5681"
      ]
     },
     "execution_count": 221,
     "metadata": {},
     "output_type": "execute_result"
    }
   ],
   "source": [
    "# 중복 제거 후 \n",
    "len(df_book)"
   ]
  },
  {
   "cell_type": "code",
   "execution_count": 222,
   "metadata": {},
   "outputs": [
    {
     "data": {
      "text/html": [
       "<div>\n",
       "<style scoped>\n",
       "    .dataframe tbody tr th:only-of-type {\n",
       "        vertical-align: middle;\n",
       "    }\n",
       "\n",
       "    .dataframe tbody tr th {\n",
       "        vertical-align: top;\n",
       "    }\n",
       "\n",
       "    .dataframe thead th {\n",
       "        text-align: right;\n",
       "    }\n",
       "</style>\n",
       "<table border=\"1\" class=\"dataframe\">\n",
       "  <thead>\n",
       "    <tr style=\"text-align: right;\">\n",
       "      <th></th>\n",
       "      <th>title</th>\n",
       "      <th>author</th>\n",
       "      <th>price</th>\n",
       "      <th>publisher</th>\n",
       "      <th>pubdate</th>\n",
       "      <th>isbn</th>\n",
       "    </tr>\n",
       "    <tr>\n",
       "      <th>language</th>\n",
       "      <th></th>\n",
       "      <th></th>\n",
       "      <th></th>\n",
       "      <th></th>\n",
       "      <th></th>\n",
       "      <th></th>\n",
       "    </tr>\n",
       "  </thead>\n",
       "  <tbody>\n",
       "    <tr>\n",
       "      <th>C</th>\n",
       "      <td>615</td>\n",
       "      <td>615</td>\n",
       "      <td>615</td>\n",
       "      <td>615</td>\n",
       "      <td>615</td>\n",
       "      <td>615</td>\n",
       "    </tr>\n",
       "    <tr>\n",
       "      <th>C#</th>\n",
       "      <td>301</td>\n",
       "      <td>301</td>\n",
       "      <td>301</td>\n",
       "      <td>301</td>\n",
       "      <td>301</td>\n",
       "      <td>301</td>\n",
       "    </tr>\n",
       "    <tr>\n",
       "      <th>C++</th>\n",
       "      <td>978</td>\n",
       "      <td>978</td>\n",
       "      <td>978</td>\n",
       "      <td>978</td>\n",
       "      <td>978</td>\n",
       "      <td>978</td>\n",
       "    </tr>\n",
       "    <tr>\n",
       "      <th>Java</th>\n",
       "      <td>1043</td>\n",
       "      <td>1043</td>\n",
       "      <td>1043</td>\n",
       "      <td>1043</td>\n",
       "      <td>1043</td>\n",
       "      <td>1043</td>\n",
       "    </tr>\n",
       "    <tr>\n",
       "      <th>JavaScript</th>\n",
       "      <td>462</td>\n",
       "      <td>462</td>\n",
       "      <td>462</td>\n",
       "      <td>462</td>\n",
       "      <td>462</td>\n",
       "      <td>462</td>\n",
       "    </tr>\n",
       "    <tr>\n",
       "      <th>PHP</th>\n",
       "      <td>199</td>\n",
       "      <td>199</td>\n",
       "      <td>199</td>\n",
       "      <td>199</td>\n",
       "      <td>199</td>\n",
       "      <td>199</td>\n",
       "    </tr>\n",
       "    <tr>\n",
       "      <th>R</th>\n",
       "      <td>405</td>\n",
       "      <td>405</td>\n",
       "      <td>405</td>\n",
       "      <td>405</td>\n",
       "      <td>405</td>\n",
       "      <td>405</td>\n",
       "    </tr>\n",
       "    <tr>\n",
       "      <th>SQL</th>\n",
       "      <td>421</td>\n",
       "      <td>421</td>\n",
       "      <td>421</td>\n",
       "      <td>421</td>\n",
       "      <td>421</td>\n",
       "      <td>421</td>\n",
       "    </tr>\n",
       "    <tr>\n",
       "      <th>VisualBasic</th>\n",
       "      <td>351</td>\n",
       "      <td>351</td>\n",
       "      <td>351</td>\n",
       "      <td>351</td>\n",
       "      <td>351</td>\n",
       "      <td>351</td>\n",
       "    </tr>\n",
       "    <tr>\n",
       "      <th>python</th>\n",
       "      <td>906</td>\n",
       "      <td>906</td>\n",
       "      <td>906</td>\n",
       "      <td>906</td>\n",
       "      <td>906</td>\n",
       "      <td>906</td>\n",
       "    </tr>\n",
       "  </tbody>\n",
       "</table>\n",
       "</div>"
      ],
      "text/plain": [
       "             title  author  price  publisher  pubdate  isbn\n",
       "language                                                   \n",
       "C              615     615    615        615      615   615\n",
       "C#             301     301    301        301      301   301\n",
       "C++            978     978    978        978      978   978\n",
       "Java          1043    1043   1043       1043     1043  1043\n",
       "JavaScript     462     462    462        462      462   462\n",
       "PHP            199     199    199        199      199   199\n",
       "R              405     405    405        405      405   405\n",
       "SQL            421     421    421        421      421   421\n",
       "VisualBasic    351     351    351        351      351   351\n",
       "python         906     906    906        906      906   906"
      ]
     },
     "execution_count": 222,
     "metadata": {},
     "output_type": "execute_result"
    }
   ],
   "source": [
    "df_book.groupby(['language']).count()"
   ]
  },
  {
   "cell_type": "markdown",
   "metadata": {},
   "source": [
    "#### 문제 3 "
   ]
  },
  {
   "cell_type": "markdown",
   "metadata": {},
   "source": [
    "> 문제 2의 결과에서 각 언어별 출판물의 양으로 순위를 매겨주세요. 적절히 시각화하여 그 양도 확인해주세요."
   ]
  },
  {
   "cell_type": "markdown",
   "metadata": {},
   "source": [
    "##### 순위 매기기"
   ]
  },
  {
   "cell_type": "code",
   "execution_count": 223,
   "metadata": {},
   "outputs": [
    {
     "data": {
      "text/plain": [
       "array(['python', 'C', 'Java', 'C++', 'C#', 'VisualBasic', 'JavaScript',\n",
       "       'SQL', 'PHP', 'R'], dtype=object)"
      ]
     },
     "execution_count": 223,
     "metadata": {},
     "output_type": "execute_result"
    }
   ],
   "source": [
    "df_book['language'].unique()"
   ]
  },
  {
   "cell_type": "code",
   "execution_count": 224,
   "metadata": {},
   "outputs": [
    {
     "data": {
      "text/html": [
       "<div>\n",
       "<style scoped>\n",
       "    .dataframe tbody tr th:only-of-type {\n",
       "        vertical-align: middle;\n",
       "    }\n",
       "\n",
       "    .dataframe tbody tr th {\n",
       "        vertical-align: top;\n",
       "    }\n",
       "\n",
       "    .dataframe thead th {\n",
       "        text-align: right;\n",
       "    }\n",
       "</style>\n",
       "<table border=\"1\" class=\"dataframe\">\n",
       "  <thead>\n",
       "    <tr style=\"text-align: right;\">\n",
       "      <th></th>\n",
       "      <th>language</th>\n",
       "    </tr>\n",
       "  </thead>\n",
       "  <tbody>\n",
       "    <tr>\n",
       "      <th>Java</th>\n",
       "      <td>1043</td>\n",
       "    </tr>\n",
       "    <tr>\n",
       "      <th>C++</th>\n",
       "      <td>978</td>\n",
       "    </tr>\n",
       "    <tr>\n",
       "      <th>python</th>\n",
       "      <td>906</td>\n",
       "    </tr>\n",
       "    <tr>\n",
       "      <th>C</th>\n",
       "      <td>615</td>\n",
       "    </tr>\n",
       "    <tr>\n",
       "      <th>JavaScript</th>\n",
       "      <td>462</td>\n",
       "    </tr>\n",
       "    <tr>\n",
       "      <th>SQL</th>\n",
       "      <td>421</td>\n",
       "    </tr>\n",
       "    <tr>\n",
       "      <th>R</th>\n",
       "      <td>405</td>\n",
       "    </tr>\n",
       "    <tr>\n",
       "      <th>VisualBasic</th>\n",
       "      <td>351</td>\n",
       "    </tr>\n",
       "    <tr>\n",
       "      <th>C#</th>\n",
       "      <td>301</td>\n",
       "    </tr>\n",
       "    <tr>\n",
       "      <th>PHP</th>\n",
       "      <td>199</td>\n",
       "    </tr>\n",
       "  </tbody>\n",
       "</table>\n",
       "</div>"
      ],
      "text/plain": [
       "             language\n",
       "Java             1043\n",
       "C++               978\n",
       "python            906\n",
       "C                 615\n",
       "JavaScript        462\n",
       "SQL               421\n",
       "R                 405\n",
       "VisualBasic       351\n",
       "C#                301\n",
       "PHP               199"
      ]
     },
     "execution_count": 224,
     "metadata": {},
     "output_type": "execute_result"
    }
   ],
   "source": [
    "# 각 프로그래밍 언어별 출판물의 양 집계\n",
    "\n",
    "df_book_count = df_book['language'].value_counts().to_frame()\n",
    "df_book_count"
   ]
  },
  {
   "cell_type": "code",
   "execution_count": 225,
   "metadata": {},
   "outputs": [
    {
     "data": {
      "text/html": [
       "<div>\n",
       "<style scoped>\n",
       "    .dataframe tbody tr th:only-of-type {\n",
       "        vertical-align: middle;\n",
       "    }\n",
       "\n",
       "    .dataframe tbody tr th {\n",
       "        vertical-align: top;\n",
       "    }\n",
       "\n",
       "    .dataframe thead th {\n",
       "        text-align: right;\n",
       "    }\n",
       "</style>\n",
       "<table border=\"1\" class=\"dataframe\">\n",
       "  <thead>\n",
       "    <tr style=\"text-align: right;\">\n",
       "      <th></th>\n",
       "      <th>language</th>\n",
       "      <th>rank</th>\n",
       "    </tr>\n",
       "  </thead>\n",
       "  <tbody>\n",
       "    <tr>\n",
       "      <th>Java</th>\n",
       "      <td>1043</td>\n",
       "      <td>1.0</td>\n",
       "    </tr>\n",
       "    <tr>\n",
       "      <th>C++</th>\n",
       "      <td>978</td>\n",
       "      <td>2.0</td>\n",
       "    </tr>\n",
       "    <tr>\n",
       "      <th>python</th>\n",
       "      <td>906</td>\n",
       "      <td>3.0</td>\n",
       "    </tr>\n",
       "    <tr>\n",
       "      <th>C</th>\n",
       "      <td>615</td>\n",
       "      <td>4.0</td>\n",
       "    </tr>\n",
       "    <tr>\n",
       "      <th>JavaScript</th>\n",
       "      <td>462</td>\n",
       "      <td>5.0</td>\n",
       "    </tr>\n",
       "    <tr>\n",
       "      <th>SQL</th>\n",
       "      <td>421</td>\n",
       "      <td>6.0</td>\n",
       "    </tr>\n",
       "    <tr>\n",
       "      <th>R</th>\n",
       "      <td>405</td>\n",
       "      <td>7.0</td>\n",
       "    </tr>\n",
       "    <tr>\n",
       "      <th>VisualBasic</th>\n",
       "      <td>351</td>\n",
       "      <td>8.0</td>\n",
       "    </tr>\n",
       "    <tr>\n",
       "      <th>C#</th>\n",
       "      <td>301</td>\n",
       "      <td>9.0</td>\n",
       "    </tr>\n",
       "    <tr>\n",
       "      <th>PHP</th>\n",
       "      <td>199</td>\n",
       "      <td>10.0</td>\n",
       "    </tr>\n",
       "  </tbody>\n",
       "</table>\n",
       "</div>"
      ],
      "text/plain": [
       "             language  rank\n",
       "Java             1043   1.0\n",
       "C++               978   2.0\n",
       "python            906   3.0\n",
       "C                 615   4.0\n",
       "JavaScript        462   5.0\n",
       "SQL               421   6.0\n",
       "R                 405   7.0\n",
       "VisualBasic       351   8.0\n",
       "C#                301   9.0\n",
       "PHP               199  10.0"
      ]
     },
     "execution_count": 225,
     "metadata": {},
     "output_type": "execute_result"
    }
   ],
   "source": [
    "# 언어별 출판물 순위 표기 \n",
    "\n",
    "df_book_count['rank'] = df_book_count['language'].rank(ascending=False)\n",
    "df_book_count"
   ]
  },
  {
   "cell_type": "markdown",
   "metadata": {},
   "source": [
    "##### 순위 시각화"
   ]
  },
  {
   "cell_type": "code",
   "execution_count": 229,
   "metadata": {},
   "outputs": [
    {
     "data": {
      "image/png": "[encoded data removed]",
      "text/plain": [
       "<Figure size 1440x432 with 1 Axes>"
      ]
     },
     "metadata": {
      "needs_background": "light"
     },
     "output_type": "display_data"
    }
   ],
   "source": [
    "# 막대바 위에 수치를 나타내려면?\n",
    "\n",
    "sns.countplot('language', data=df_book, order=df_book['language'].value_counts(ascending=False).index, palette='flare')\n",
    "sns.color_palette('Set3', 10)\n",
    "fig=plt.gcf()\n",
    "fig.set_size_inches(20,6)\n",
    "plt.xticks(rotation=0)\n",
    " \n",
    "plt.title('Rank of Programming Language by amounts of book published')\n",
    "plt.show();"
   ]
  },
  {
   "cell_type": "markdown",
   "metadata": {},
   "source": [
    "#### 문제 4"
   ]
  },
  {
   "cell_type": "markdown",
   "metadata": {},
   "source": [
    "> 수집된 정보를 기반으로 우리나라의 컴퓨터 언어 관련 출판사 순위를 확인하세요,"
   ]
  },
  {
   "cell_type": "code",
   "execution_count": 234,
   "metadata": {},
   "outputs": [
    {
     "data": {
      "text/plain": [
       "554"
      ]
     },
     "execution_count": 234,
     "metadata": {},
     "output_type": "execute_result"
    }
   ],
   "source": [
    "# 출판사의 개수가 554개이므로 상위 10개 출판사만 확인 \n",
    "len(df_book['publisher'].unique())"
   ]
  },
  {
   "cell_type": "code",
   "execution_count": 236,
   "metadata": {},
   "outputs": [
    {
     "data": {
      "text/plain": [
       "Index(['title', 'author', 'price', 'publisher', 'pubdate', 'isbn', 'language'], dtype='object')"
      ]
     },
     "execution_count": 236,
     "metadata": {},
     "output_type": "execute_result"
    }
   ],
   "source": [
    "df_book.columns"
   ]
  },
  {
   "cell_type": "code",
   "execution_count": 239,
   "metadata": {},
   "outputs": [
    {
     "data": {
      "text/html": [
       "<div>\n",
       "<style scoped>\n",
       "    .dataframe tbody tr th:only-of-type {\n",
       "        vertical-align: middle;\n",
       "    }\n",
       "\n",
       "    .dataframe tbody tr th {\n",
       "        vertical-align: top;\n",
       "    }\n",
       "\n",
       "    .dataframe thead th {\n",
       "        text-align: right;\n",
       "    }\n",
       "</style>\n",
       "<table border=\"1\" class=\"dataframe\">\n",
       "  <thead>\n",
       "    <tr style=\"text-align: right;\">\n",
       "      <th></th>\n",
       "      <th>title</th>\n",
       "      <th>author</th>\n",
       "      <th>price</th>\n",
       "      <th>publisher</th>\n",
       "      <th>pubdate</th>\n",
       "      <th>isbn</th>\n",
       "      <th>language</th>\n",
       "    </tr>\n",
       "  </thead>\n",
       "  <tbody>\n",
       "    <tr>\n",
       "      <th>0</th>\n",
       "      <td>OpenCV.&lt;b&gt;Python&lt;/b&gt; 머신러닝 딥러닝 프로그래밍</td>\n",
       "      <td>김동근</td>\n",
       "      <td>26000</td>\n",
       "      <td>가메</td>\n",
       "      <td>20220331</td>\n",
       "      <td>8980783116 9788980783113</td>\n",
       "      <td>python</td>\n",
       "    </tr>\n",
       "    <tr>\n",
       "      <th>1</th>\n",
       "      <td>영상 처리 및 응용 (OpenCV-&lt;b&gt;Python&lt;/b&gt;으로 배우는)</td>\n",
       "      <td>정성환</td>\n",
       "      <td>35000</td>\n",
       "      <td>생능출판</td>\n",
       "      <td>20201124</td>\n",
       "      <td>8970504419 9788970504414</td>\n",
       "      <td>python</td>\n",
       "    </tr>\n",
       "    <tr>\n",
       "      <th>2</th>\n",
       "      <td>처음 만나는 AI 수학 with &lt;b&gt;Python&lt;/b&gt; (한 권으로 배우는 인공지...</td>\n",
       "      <td>아즈마 유키나가</td>\n",
       "      <td>23000</td>\n",
       "      <td>영진닷컴</td>\n",
       "      <td>20210115</td>\n",
       "      <td>8931463375 9788931463378</td>\n",
       "      <td>python</td>\n",
       "    </tr>\n",
       "    <tr>\n",
       "      <th>3</th>\n",
       "      <td>빅데이터분석 및 인공지능 (쉽고 간단한 예제를 이용한 빅데이터분석 및 인공지능 실습...</td>\n",
       "      <td>조준모</td>\n",
       "      <td>26000</td>\n",
       "      <td>인피니티북스</td>\n",
       "      <td>20210225</td>\n",
       "      <td>118557879X 9791185578798</td>\n",
       "      <td>python</td>\n",
       "    </tr>\n",
       "    <tr>\n",
       "      <th>4</th>\n",
       "      <td>&lt;b&gt;Python&lt;/b&gt;으로 배우는 문제해결과 인공지능</td>\n",
       "      <td>김현정|오경선</td>\n",
       "      <td>23000</td>\n",
       "      <td>인피니티북스</td>\n",
       "      <td>20210225</td>\n",
       "      <td>1185578811 9791185578811</td>\n",
       "      <td>python</td>\n",
       "    </tr>\n",
       "  </tbody>\n",
       "</table>\n",
       "</div>"
      ],
      "text/plain": [
       "                                               title    author  price  \\\n",
       "0                OpenCV.<b>Python</b> 머신러닝 딥러닝 프로그래밍       김동근  26000   \n",
       "1            영상 처리 및 응용 (OpenCV-<b>Python</b>으로 배우는)       정성환  35000   \n",
       "2  처음 만나는 AI 수학 with <b>Python</b> (한 권으로 배우는 인공지...  아즈마 유키나가  23000   \n",
       "3  빅데이터분석 및 인공지능 (쉽고 간단한 예제를 이용한 빅데이터분석 및 인공지능 실습...       조준모  26000   \n",
       "4                     <b>Python</b>으로 배우는 문제해결과 인공지능   김현정|오경선  23000   \n",
       "\n",
       "  publisher   pubdate                      isbn language  \n",
       "0        가메  20220331  8980783116 9788980783113   python  \n",
       "1      생능출판  20201124  8970504419 9788970504414   python  \n",
       "2      영진닷컴  20210115  8931463375 9788931463378   python  \n",
       "3    인피니티북스  20210225  118557879X 9791185578798   python  \n",
       "4    인피니티북스  20210225  1185578811 9791185578811   python  "
      ]
     },
     "execution_count": 239,
     "metadata": {},
     "output_type": "execute_result"
    }
   ],
   "source": [
    "df_book.head()"
   ]
  },
  {
   "cell_type": "code",
   "execution_count": 260,
   "metadata": {},
   "outputs": [
    {
     "data": {
      "text/html": [
       "<div>\n",
       "<style scoped>\n",
       "    .dataframe tbody tr th:only-of-type {\n",
       "        vertical-align: middle;\n",
       "    }\n",
       "\n",
       "    .dataframe tbody tr th {\n",
       "        vertical-align: top;\n",
       "    }\n",
       "\n",
       "    .dataframe thead th {\n",
       "        text-align: right;\n",
       "    }\n",
       "</style>\n",
       "<table border=\"1\" class=\"dataframe\">\n",
       "  <thead>\n",
       "    <tr style=\"text-align: right;\">\n",
       "      <th></th>\n",
       "      <th>publisher</th>\n",
       "      <th>rank</th>\n",
       "    </tr>\n",
       "  </thead>\n",
       "  <tbody>\n",
       "    <tr>\n",
       "      <th>한빛미디어</th>\n",
       "      <td>370</td>\n",
       "      <td>1.0</td>\n",
       "    </tr>\n",
       "    <tr>\n",
       "      <th>에이콘출판</th>\n",
       "      <td>305</td>\n",
       "      <td>2.0</td>\n",
       "    </tr>\n",
       "    <tr>\n",
       "      <th>정보문화사</th>\n",
       "      <td>253</td>\n",
       "      <td>3.0</td>\n",
       "    </tr>\n",
       "    <tr>\n",
       "      <th>영진닷컴</th>\n",
       "      <td>217</td>\n",
       "      <td>4.0</td>\n",
       "    </tr>\n",
       "    <tr>\n",
       "      <th>Packt(GCOScience)</th>\n",
       "      <td>169</td>\n",
       "      <td>5.0</td>\n",
       "    </tr>\n",
       "    <tr>\n",
       "      <th>성안당</th>\n",
       "      <td>125</td>\n",
       "      <td>6.0</td>\n",
       "    </tr>\n",
       "    <tr>\n",
       "      <th>위키북스</th>\n",
       "      <td>119</td>\n",
       "      <td>7.0</td>\n",
       "    </tr>\n",
       "    <tr>\n",
       "      <th>길벗</th>\n",
       "      <td>114</td>\n",
       "      <td>8.0</td>\n",
       "    </tr>\n",
       "    <tr>\n",
       "      <th>인포북</th>\n",
       "      <td>111</td>\n",
       "      <td>9.0</td>\n",
       "    </tr>\n",
       "    <tr>\n",
       "      <th>삼각형</th>\n",
       "      <td>106</td>\n",
       "      <td>10.0</td>\n",
       "    </tr>\n",
       "  </tbody>\n",
       "</table>\n",
       "</div>"
      ],
      "text/plain": [
       "                   publisher  rank\n",
       "한빛미디어                    370   1.0\n",
       "에이콘출판                    305   2.0\n",
       "정보문화사                    253   3.0\n",
       "영진닷컴                     217   4.0\n",
       "Packt(GCOScience)        169   5.0\n",
       "성안당                      125   6.0\n",
       "위키북스                     119   7.0\n",
       "길벗                       114   8.0\n",
       "인포북                      111   9.0\n",
       "삼각형                      106  10.0"
      ]
     },
     "execution_count": 260,
     "metadata": {},
     "output_type": "execute_result"
    }
   ],
   "source": [
    "# 상위 10개 출판사 순위 표기 \n",
    "df_book_publisher = df_book['publisher'].value_counts()[:10].to_frame()\n",
    "df_book_publisher['rank'] = df_book_publisher['publisher'].rank(ascending=False)\n",
    "df_book_publisher"
   ]
  },
  {
   "cell_type": "markdown",
   "metadata": {},
   "source": [
    "##### 출판사 순위 시각화"
   ]
  },
  {
   "cell_type": "code",
   "execution_count": 249,
   "metadata": {},
   "outputs": [],
   "source": [
    "# 한글대응\n",
    "\n",
    "import matplotlib.pyplot as plt\n",
    "import platform\n",
    "\n",
    "path = \"c:/Windows/Fonts/malgun.ttf\"\n",
    "from matplotlib import font_manager, rc\n",
    "\n",
    "if platform.system() == \"Darwin\":\n",
    "    rc(\"font\", family=\"AppleGothic\")\n",
    "elif platform.system() == \"Windows\":\n",
    "    font_name = font_manager.FontProperties(fname=path).get_name()\n",
    "    rc(\"font\", family=font_name)\n",
    "else:\n",
    "    print(\"Unknown system...sorry~~~\")\n",
    "\n",
    "get_ipython().run_line_magic(\"matplotlib\", \"inline\")"
   ]
  },
  {
   "cell_type": "code",
   "execution_count": 261,
   "metadata": {},
   "outputs": [
    {
     "data": {
      "image/png": "[encoded data removed]",
      "text/plain": [
       "<Figure size 1440x432 with 1 Axes>"
      ]
     },
     "metadata": {
      "needs_background": "light"
     },
     "output_type": "display_data"
    }
   ],
   "source": [
    "df_book_publisher['publisher'].plot.bar(color=sns.color_palette('RdYlBu', 10))\n",
    "sns.color_palette('Set3', 10)\n",
    "fig=plt.gcf()\n",
    "fig.set_size_inches(20,6)\n",
    "plt.xticks(rotation=0)\n",
    "plt.title('Rank of Programming Language by amounts of book published')\n",
    "plt.show();"
   ]
  },
  {
   "cell_type": "markdown",
   "metadata": {},
   "source": [
    "#### 문제 5"
   ]
  },
  {
   "cell_type": "markdown",
   "metadata": {},
   "source": [
    "> 출판일 기준, 최근 2년간(20년, 21년) 데이터와 그 전 3년(17년, 18년, 19년) 데이터를 비교해주세요. "
   ]
  },
  {
   "cell_type": "code",
   "execution_count": 295,
   "metadata": {},
   "outputs": [],
   "source": [
    "# 최근 2년간 데이터와 그 전 3년 데이터로 이분할 \n",
    "\n",
    "df_book_date1 = df_book [df_book['pubdate'].between('2017-01-01', '2019-12-31')]\n",
    "df_book_date2 = df_book [df_book['pubdate'].between('2020-01-01', '2021-12-31')]"
   ]
  },
  {
   "cell_type": "code",
   "execution_count": 273,
   "metadata": {},
   "outputs": [
    {
     "data": {
      "text/html": [
       "<div>\n",
       "<style scoped>\n",
       "    .dataframe tbody tr th:only-of-type {\n",
       "        vertical-align: middle;\n",
       "    }\n",
       "\n",
       "    .dataframe tbody tr th {\n",
       "        vertical-align: top;\n",
       "    }\n",
       "\n",
       "    .dataframe thead th {\n",
       "        text-align: right;\n",
       "    }\n",
       "</style>\n",
       "<table border=\"1\" class=\"dataframe\">\n",
       "  <thead>\n",
       "    <tr style=\"text-align: right;\">\n",
       "      <th></th>\n",
       "      <th>language</th>\n",
       "    </tr>\n",
       "  </thead>\n",
       "  <tbody>\n",
       "    <tr>\n",
       "      <th>python</th>\n",
       "      <td>214</td>\n",
       "    </tr>\n",
       "    <tr>\n",
       "      <th>R</th>\n",
       "      <td>106</td>\n",
       "    </tr>\n",
       "    <tr>\n",
       "      <th>Java</th>\n",
       "      <td>92</td>\n",
       "    </tr>\n",
       "    <tr>\n",
       "      <th>C</th>\n",
       "      <td>56</td>\n",
       "    </tr>\n",
       "    <tr>\n",
       "      <th>JavaScript</th>\n",
       "      <td>51</td>\n",
       "    </tr>\n",
       "    <tr>\n",
       "      <th>C++</th>\n",
       "      <td>44</td>\n",
       "    </tr>\n",
       "    <tr>\n",
       "      <th>SQL</th>\n",
       "      <td>28</td>\n",
       "    </tr>\n",
       "    <tr>\n",
       "      <th>C#</th>\n",
       "      <td>26</td>\n",
       "    </tr>\n",
       "    <tr>\n",
       "      <th>PHP</th>\n",
       "      <td>14</td>\n",
       "    </tr>\n",
       "    <tr>\n",
       "      <th>VisualBasic</th>\n",
       "      <td>5</td>\n",
       "    </tr>\n",
       "  </tbody>\n",
       "</table>\n",
       "</div>"
      ],
      "text/plain": [
       "             language\n",
       "python            214\n",
       "R                 106\n",
       "Java               92\n",
       "C                  56\n",
       "JavaScript         51\n",
       "C++                44\n",
       "SQL                28\n",
       "C#                 26\n",
       "PHP                14\n",
       "VisualBasic         5"
      ]
     },
     "execution_count": 273,
     "metadata": {},
     "output_type": "execute_result"
    }
   ],
   "source": [
    "# 파이차트를 그리기 위해 데이터 준비 \n",
    "\n",
    "df_book_group1 = df_book_date1['language'].value_counts().to_frame()\n",
    "df_book_group1"
   ]
  },
  {
   "cell_type": "code",
   "execution_count": 272,
   "metadata": {},
   "outputs": [
    {
     "data": {
      "text/html": [
       "<div>\n",
       "<style scoped>\n",
       "    .dataframe tbody tr th:only-of-type {\n",
       "        vertical-align: middle;\n",
       "    }\n",
       "\n",
       "    .dataframe tbody tr th {\n",
       "        vertical-align: top;\n",
       "    }\n",
       "\n",
       "    .dataframe thead th {\n",
       "        text-align: right;\n",
       "    }\n",
       "</style>\n",
       "<table border=\"1\" class=\"dataframe\">\n",
       "  <thead>\n",
       "    <tr style=\"text-align: right;\">\n",
       "      <th></th>\n",
       "      <th>language</th>\n",
       "    </tr>\n",
       "  </thead>\n",
       "  <tbody>\n",
       "    <tr>\n",
       "      <th>python</th>\n",
       "      <td>164</td>\n",
       "    </tr>\n",
       "    <tr>\n",
       "      <th>R</th>\n",
       "      <td>49</td>\n",
       "    </tr>\n",
       "    <tr>\n",
       "      <th>C++</th>\n",
       "      <td>26</td>\n",
       "    </tr>\n",
       "    <tr>\n",
       "      <th>Java</th>\n",
       "      <td>23</td>\n",
       "    </tr>\n",
       "    <tr>\n",
       "      <th>C</th>\n",
       "      <td>21</td>\n",
       "    </tr>\n",
       "    <tr>\n",
       "      <th>SQL</th>\n",
       "      <td>19</td>\n",
       "    </tr>\n",
       "    <tr>\n",
       "      <th>JavaScript</th>\n",
       "      <td>17</td>\n",
       "    </tr>\n",
       "    <tr>\n",
       "      <th>C#</th>\n",
       "      <td>11</td>\n",
       "    </tr>\n",
       "    <tr>\n",
       "      <th>PHP</th>\n",
       "      <td>5</td>\n",
       "    </tr>\n",
       "    <tr>\n",
       "      <th>VisualBasic</th>\n",
       "      <td>1</td>\n",
       "    </tr>\n",
       "  </tbody>\n",
       "</table>\n",
       "</div>"
      ],
      "text/plain": [
       "             language\n",
       "python            164\n",
       "R                  49\n",
       "C++                26\n",
       "Java               23\n",
       "C                  21\n",
       "SQL                19\n",
       "JavaScript         17\n",
       "C#                 11\n",
       "PHP                 5\n",
       "VisualBasic         1"
      ]
     },
     "execution_count": 272,
     "metadata": {},
     "output_type": "execute_result"
    }
   ],
   "source": [
    "df_book_group2 = df_book_date2['language'].value_counts().to_frame()\n",
    "df_book_group2"
   ]
  },
  {
   "cell_type": "code",
   "execution_count": 298,
   "metadata": {},
   "outputs": [],
   "source": [
    "# 인덱스 열 이름 지정 \n",
    "df_book_group1.index.name=\"planguage\"\n",
    "df_book_group2.index.name=\"planguage\""
   ]
  },
  {
   "cell_type": "code",
   "execution_count": 289,
   "metadata": {},
   "outputs": [
    {
     "data": {
      "text/plain": [
       "planguage\n",
       "python         214\n",
       "R              106\n",
       "Java            92\n",
       "C               56\n",
       "JavaScript      51\n",
       "C++             44\n",
       "SQL             28\n",
       "C#              26\n",
       "PHP             14\n",
       "VisualBasic      5\n",
       "Name: language, dtype: int64"
      ]
     },
     "execution_count": 289,
     "metadata": {},
     "output_type": "execute_result"
    }
   ],
   "source": [
    "df_book_group1['language']"
   ]
  },
  {
   "cell_type": "code",
   "execution_count": 320,
   "metadata": {},
   "outputs": [
    {
     "data": {
      "application/vnd.plotly.v1+json": {
       "config": {
        "plotlyServerURL": "https://plot.ly"
       },
       "data": [
        {
         "domain": {
          "x": [
           0,
           0.45
          ],
          "y": [
           0,
           1
          ]
         },
         "labels": [
          "python",
          "R",
          "Java",
          "C",
          "JavaScript",
          "C++",
          "SQL",
          "C#",
          "PHP",
          "VisualBasic"
         ],
         "pull": [
          0,
          0,
          0.2,
          0
         ],
         "title": {
          "text": "Popularity of Programming Language in 2017~2019"
         },
         "type": "pie",
         "values": [
          214,
          106,
          92,
          56,
          51,
          44,
          28,
          26,
          14,
          5
         ]
        },
        {
         "domain": {
          "x": [
           0.55,
           1
          ],
          "y": [
           0,
           1
          ]
         },
         "labels": [
          "python",
          "R",
          "C++",
          "Java",
          "C",
          "SQL",
          "JavaScript",
          "C#",
          "PHP",
          "VisualBasic"
         ],
         "pull": [
          0,
          0,
          0.2,
          0
         ],
         "title": {
          "text": "Popularity of Programming Language in 2020~2021"
         },
         "type": "pie",
         "values": [
          164,
          49,
          26,
          23,
          21,
          19,
          17,
          11,
          5,
          1
         ]
        }
       ],
       "layout": {
        "height": 600,
        "template": {
         "data": {
          "bar": [
           {
            "error_x": {
             "color": "#2a3f5f"
            },
            "error_y": {
             "color": "#2a3f5f"
            },
            "marker": {
             "line": {
              "color": "#E5ECF6",
              "width": 0.5
             },
             "pattern": {
              "fillmode": "overlay",
              "size": 10,
              "solidity": 0.2
             }
            },
            "type": "bar"
           }
          ],
          "barpolar": [
           {
            "marker": {
             "line": {
              "color": "#E5ECF6",
              "width": 0.5
             },
             "pattern": {
              "fillmode": "overlay",
              "size": 10,
              "solidity": 0.2
             }
            },
            "type": "barpolar"
           }
          ],
          "carpet": [
           {
            "aaxis": {
             "endlinecolor": "#2a3f5f",
             "gridcolor": "white",
             "linecolor": "white",
             "minorgridcolor": "white",
             "startlinecolor": "#2a3f5f"
            },
            "baxis": {
             "endlinecolor": "#2a3f5f",
             "gridcolor": "white",
             "linecolor": "white",
             "minorgridcolor": "white",
             "startlinecolor": "#2a3f5f"
            },
            "type": "carpet"
           }
          ],
          "choropleth": [
           {
            "colorbar": {
             "outlinewidth": 0,
             "ticks": ""
            },
            "type": "choropleth"
           }
          ],
          "contour": [
           {
            "colorbar": {
             "outlinewidth": 0,
             "ticks": ""
            },
            "colorscale": [
             [
              0,
              "#0d0887"
             ],
             [
              0.1111111111111111,
              "#46039f"
             ],
             [
              0.2222222222222222,
              "#7201a8"
             ],
             [
              0.3333333333333333,
              "#9c179e"
             ],
             [
              0.4444444444444444,
              "#bd3786"
             ],
             [
              0.5555555555555556,
              "#d8576b"
             ],
             [
              0.6666666666666666,
              "#ed7953"
             ],
             [
              0.7777777777777778,
              "#fb9f3a"
             ],
             [
              0.8888888888888888,
              "#fdca26"
             ],
             [
              1,
              "#f0f921"
             ]
            ],
            "type": "contour"
           }
          ],
          "contourcarpet": [
           {
            "colorbar": {
             "outlinewidth": 0,
             "ticks": ""
            },
            "type": "contourcarpet"
           }
          ],
          "heatmap": [
           {
            "colorbar": {
             "outlinewidth": 0,
             "ticks": ""
            },
            "colorscale": [
             [
              0,
              "#0d0887"
             ],
             [
              0.1111111111111111,
              "#46039f"
             ],
             [
              0.2222222222222222,
              "#7201a8"
             ],
             [
              0.3333333333333333,
              "#9c179e"
             ],
             [
              0.4444444444444444,
              "#bd3786"
             ],
             [
              0.5555555555555556,
              "#d8576b"
             ],
             [
              0.6666666666666666,
              "#ed7953"
             ],
             [
              0.7777777777777778,
              "#fb9f3a"
             ],
             [
              0.8888888888888888,
              "#fdca26"
             ],
             [
              1,
              "#f0f921"
             ]
            ],
            "type": "heatmap"
           }
          ],
          "heatmapgl": [
           {
            "colorbar": {
             "outlinewidth": 0,
             "ticks": ""
            },
            "colorscale": [
             [
              0,
              "#0d0887"
             ],
             [
              0.1111111111111111,
              "#46039f"
             ],
             [
              0.2222222222222222,
              "#7201a8"
             ],
             [
              0.3333333333333333,
              "#9c179e"
             ],
             [
              0.4444444444444444,
              "#bd3786"
             ],
             [
              0.5555555555555556,
              "#d8576b"
             ],
             [
              0.6666666666666666,
              "#ed7953"
             ],
             [
              0.7777777777777778,
              "#fb9f3a"
             ],
             [
              0.8888888888888888,
              "#fdca26"
             ],
             [
              1,
              "#f0f921"
             ]
            ],
            "type": "heatmapgl"
           }
          ],
          "histogram": [
           {
            "marker": {
             "pattern": {
              "fillmode": "overlay",
              "size": 10,
              "solidity": 0.2
             }
            },
            "type": "histogram"
           }
          ],
          "histogram2d": [
           {
            "colorbar": {
             "outlinewidth": 0,
             "ticks": ""
            },
            "colorscale": [
             [
              0,
              "#0d0887"
             ],
             [
              0.1111111111111111,
              "#46039f"
             ],
             [
              0.2222222222222222,
              "#7201a8"
             ],
             [
              0.3333333333333333,
              "#9c179e"
             ],
             [
              0.4444444444444444,
              "#bd3786"
             ],
             [
              0.5555555555555556,
              "#d8576b"
             ],
             [
              0.6666666666666666,
              "#ed7953"
             ],
             [
              0.7777777777777778,
              "#fb9f3a"
             ],
             [
              0.8888888888888888,
              "#fdca26"
             ],
             [
              1,
              "#f0f921"
             ]
            ],
            "type": "histogram2d"
           }
          ],
          "histogram2dcontour": [
           {
            "colorbar": {
             "outlinewidth": 0,
             "ticks": ""
            },
            "colorscale": [
             [
              0,
              "#0d0887"
             ],
             [
              0.1111111111111111,
              "#46039f"
             ],
             [
              0.2222222222222222,
              "#7201a8"
             ],
             [
              0.3333333333333333,
              "#9c179e"
             ],
             [
              0.4444444444444444,
              "#bd3786"
             ],
             [
              0.5555555555555556,
              "#d8576b"
             ],
             [
              0.6666666666666666,
              "#ed7953"
             ],
             [
              0.7777777777777778,
              "#fb9f3a"
             ],
             [
              0.8888888888888888,
              "#fdca26"
             ],
             [
              1,
              "#f0f921"
             ]
            ],
            "type": "histogram2dcontour"
           }
          ],
          "mesh3d": [
           {
            "colorbar": {
             "outlinewidth": 0,
             "ticks": ""
            },
            "type": "mesh3d"
           }
          ],
          "parcoords": [
           {
            "line": {
             "colorbar": {
              "outlinewidth": 0,
              "ticks": ""
             }
            },
            "type": "parcoords"
           }
          ],
          "pie": [
           {
            "automargin": true,
            "type": "pie"
           }
          ],
          "scatter": [
           {
            "fillpattern": {
             "fillmode": "overlay",
             "size": 10,
             "solidity": 0.2
            },
            "type": "scatter"
           }
          ],
          "scatter3d": [
           {
            "line": {
             "colorbar": {
              "outlinewidth": 0,
              "ticks": ""
             }
            },
            "marker": {
             "colorbar": {
              "outlinewidth": 0,
              "ticks": ""
             }
            },
            "type": "scatter3d"
           }
          ],
          "scattercarpet": [
           {
            "marker": {
             "colorbar": {
              "outlinewidth": 0,
              "ticks": ""
             }
            },
            "type": "scattercarpet"
           }
          ],
          "scattergeo": [
           {
            "marker": {
             "colorbar": {
              "outlinewidth": 0,
              "ticks": ""
             }
            },
            "type": "scattergeo"
           }
          ],
          "scattergl": [
           {
            "marker": {
             "colorbar": {
              "outlinewidth": 0,
              "ticks": ""
             }
            },
            "type": "scattergl"
           }
          ],
          "scattermapbox": [
           {
            "marker": {
             "colorbar": {
              "outlinewidth": 0,
              "ticks": ""
             }
            },
            "type": "scattermapbox"
           }
          ],
          "scatterpolar": [
           {
            "marker": {
             "colorbar": {
              "outlinewidth": 0,
              "ticks": ""
             }
            },
            "type": "scatterpolar"
           }
          ],
          "scatterpolargl": [
           {
            "marker": {
             "colorbar": {
              "outlinewidth": 0,
              "ticks": ""
             }
            },
            "type": "scatterpolargl"
           }
          ],
          "scatterternary": [
           {
            "marker": {
             "colorbar": {
              "outlinewidth": 0,
              "ticks": ""
             }
            },
            "type": "scatterternary"
           }
          ],
          "surface": [
           {
            "colorbar": {
             "outlinewidth": 0,
             "ticks": ""
            },
            "colorscale": [
             [
              0,
              "#0d0887"
             ],
             [
              0.1111111111111111,
              "#46039f"
             ],
             [
              0.2222222222222222,
              "#7201a8"
             ],
             [
              0.3333333333333333,
              "#9c179e"
             ],
             [
              0.4444444444444444,
              "#bd3786"
             ],
             [
              0.5555555555555556,
              "#d8576b"
             ],
             [
              0.6666666666666666,
              "#ed7953"
             ],
             [
              0.7777777777777778,
              "#fb9f3a"
             ],
             [
              0.8888888888888888,
              "#fdca26"
             ],
             [
              1,
              "#f0f921"
             ]
            ],
            "type": "surface"
           }
          ],
          "table": [
           {
            "cells": {
             "fill": {
              "color": "#EBF0F8"
             },
             "line": {
              "color": "white"
             }
            },
            "header": {
             "fill": {
              "color": "#C8D4E3"
             },
             "line": {
              "color": "white"
             }
            },
            "type": "table"
           }
          ]
         },
         "layout": {
          "annotationdefaults": {
           "arrowcolor": "#2a3f5f",
           "arrowhead": 0,
           "arrowwidth": 1
          },
          "autotypenumbers": "strict",
          "coloraxis": {
           "colorbar": {
            "outlinewidth": 0,
            "ticks": ""
           }
          },
          "colorscale": {
           "diverging": [
            [
             0,
             "#8e0152"
            ],
            [
             0.1,
             "#c51b7d"
            ],
            [
             0.2,
             "#de77ae"
            ],
            [
             0.3,
             "#f1b6da"
            ],
            [
             0.4,
             "#fde0ef"
            ],
            [
             0.5,
             "#f7f7f7"
            ],
            [
             0.6,
             "#e6f5d0"
            ],
            [
             0.7,
             "#b8e186"
            ],
            [
             0.8,
             "#7fbc41"
            ],
            [
             0.9,
             "#4d9221"
            ],
            [
             1,
             "#276419"
            ]
           ],
           "sequential": [
            [
             0,
             "#0d0887"
            ],
            [
             0.1111111111111111,
             "#46039f"
            ],
            [
             0.2222222222222222,
             "#7201a8"
            ],
            [
             0.3333333333333333,
             "#9c179e"
            ],
            [
             0.4444444444444444,
             "#bd3786"
            ],
            [
             0.5555555555555556,
             "#d8576b"
            ],
            [
             0.6666666666666666,
             "#ed7953"
            ],
            [
             0.7777777777777778,
             "#fb9f3a"
            ],
            [
             0.8888888888888888,
             "#fdca26"
            ],
            [
             1,
             "#f0f921"
            ]
           ],
           "sequentialminus": [
            [
             0,
             "#0d0887"
            ],
            [
             0.1111111111111111,
             "#46039f"
            ],
            [
             0.2222222222222222,
             "#7201a8"
            ],
            [
             0.3333333333333333,
             "#9c179e"
            ],
            [
             0.4444444444444444,
             "#bd3786"
            ],
            [
             0.5555555555555556,
             "#d8576b"
            ],
            [
             0.6666666666666666,
             "#ed7953"
            ],
            [
             0.7777777777777778,
             "#fb9f3a"
            ],
            [
             0.8888888888888888,
             "#fdca26"
            ],
            [
             1,
             "#f0f921"
            ]
           ]
          },
          "colorway": [
           "#636efa",
           "#EF553B",
           "#00cc96",
           "#ab63fa",
           "#FFA15A",
           "#19d3f3",
           "#FF6692",
           "#B6E880",
           "#FF97FF",
           "#FECB52"
          ],
          "font": {
           "color": "#2a3f5f"
          },
          "geo": {
           "bgcolor": "white",
           "lakecolor": "white",
           "landcolor": "#E5ECF6",
           "showlakes": true,
           "showland": true,
           "subunitcolor": "white"
          },
          "hoverlabel": {
           "align": "left"
          },
          "hovermode": "closest",
          "mapbox": {
           "style": "light"
          },
          "paper_bgcolor": "white",
          "plot_bgcolor": "#E5ECF6",
          "polar": {
           "angularaxis": {
            "gridcolor": "white",
            "linecolor": "white",
            "ticks": ""
           },
           "bgcolor": "#E5ECF6",
           "radialaxis": {
            "gridcolor": "white",
            "linecolor": "white",
            "ticks": ""
           }
          },
          "scene": {
           "xaxis": {
            "backgroundcolor": "#E5ECF6",
            "gridcolor": "white",
            "gridwidth": 2,
            "linecolor": "white",
            "showbackground": true,
            "ticks": "",
            "zerolinecolor": "white"
           },
           "yaxis": {
            "backgroundcolor": "#E5ECF6",
            "gridcolor": "white",
            "gridwidth": 2,
            "linecolor": "white",
            "showbackground": true,
            "ticks": "",
            "zerolinecolor": "white"
           },
           "zaxis": {
            "backgroundcolor": "#E5ECF6",
            "gridcolor": "white",
            "gridwidth": 2,
            "linecolor": "white",
            "showbackground": true,
            "ticks": "",
            "zerolinecolor": "white"
           }
          },
          "shapedefaults": {
           "line": {
            "color": "#2a3f5f"
           }
          },
          "ternary": {
           "aaxis": {
            "gridcolor": "white",
            "linecolor": "white",
            "ticks": ""
           },
           "baxis": {
            "gridcolor": "white",
            "linecolor": "white",
            "ticks": ""
           },
           "bgcolor": "#E5ECF6",
           "caxis": {
            "gridcolor": "white",
            "linecolor": "white",
            "ticks": ""
           }
          },
          "title": {
           "x": 0.05
          },
          "xaxis": {
           "automargin": true,
           "gridcolor": "white",
           "linecolor": "white",
           "ticks": "",
           "title": {
            "standoff": 15
           },
           "zerolinecolor": "white",
           "zerolinewidth": 2
          },
          "yaxis": {
           "automargin": true,
           "gridcolor": "white",
           "linecolor": "white",
           "ticks": "",
           "title": {
            "standoff": 15
           },
           "zerolinecolor": "white",
           "zerolinewidth": 2
          }
         }
        },
        "width": 1100
       }
      }
     },
     "metadata": {},
     "output_type": "display_data"
    }
   ],
   "source": [
    "# 각 데이터 시각화 및 비교분석\n",
    "\n",
    "fig = make_subplots(rows=1, cols=2, shared_xaxes=False,\n",
    "                    specs = [[{\"type\": \"pie\"}, {\"type\": \"pie\"}]]\n",
    "                    )\n",
    "\n",
    "fig.add_trace(go.Pie(labels=df_book_group1.index, \n",
    "                    values=df_book_group1['language'], \n",
    "                    title='Popularity of Programming Language in 2017~2019', \n",
    "                    pull=[0, 0, 0.2, 0]),\n",
    "                    row=1, col=1)\n",
    "\n",
    "fig.add_trace(go.Pie(labels=df_book_group2.index, \n",
    "                    values=df_book_group2['language'], \n",
    "                    title='Popularity of Programming Language in 2020~2021', \n",
    "                    pull=[0, 0, 0.2, 0]),\n",
    "                    row=1, col=2)                            \n",
    "fig.update_layout(height=600, width=1100)\n",
    "fig.show()"
   ]
  },
  {
   "cell_type": "markdown",
   "metadata": {},
   "source": [
    "#### 연도별 프로그래밍 언어 인기도 시각화 "
   ]
  },
  {
   "cell_type": "markdown",
   "metadata": {},
   "source": [
    "#### TIOBE INDEX 20위까지 확장 검색 + 페이지수 수집 "
   ]
  },
  {
   "cell_type": "code",
   "execution_count": 339,
   "metadata": {},
   "outputs": [
    {
     "name": "stdout",
     "output_type": "stream",
     "text": [
      "[2022-04-26 22:31:14.864708] Url Request Success\n",
      "[2022-04-26 22:31:15.278010] Url Request Success\n",
      "[2022-04-26 22:31:15.452750] Url Request Success\n",
      "[2022-04-26 22:31:15.604801] Url Request Success\n",
      "[2022-04-26 22:31:15.770813] Url Request Success\n",
      "[2022-04-26 22:31:15.943800] Url Request Success\n",
      "[2022-04-26 22:31:16.110804] Url Request Success\n",
      "[2022-04-26 22:31:16.273801] Url Request Success\n",
      "[2022-04-26 22:31:16.430803] Url Request Success\n",
      "[2022-04-26 22:31:16.596805] Url Request Success\n",
      "[2022-04-26 22:31:17.010802] Url Request Success\n",
      "[2022-04-26 22:31:17.461070] Url Request Success\n",
      "[2022-04-26 22:31:17.964297] Url Request Success\n",
      "[2022-04-26 22:31:18.395157] Url Request Success\n",
      "[2022-04-26 22:31:18.812522] Url Request Success\n",
      "[2022-04-26 22:31:19.235649] Url Request Success\n",
      "[2022-04-26 22:31:19.674244] Url Request Success\n",
      "[2022-04-26 22:31:20.021565] Url Request Success\n",
      "[2022-04-26 22:31:20.195556] Url Request Success\n",
      "[2022-04-26 22:31:20.443560] Url Request Success\n",
      "[2022-04-26 22:31:20.901640] Url Request Success\n",
      "[2022-04-26 22:31:21.337880] Url Request Success\n",
      "[2022-04-26 22:31:21.790680] Url Request Success\n",
      "[2022-04-26 22:31:22.227161] Url Request Success\n",
      "[2022-04-26 22:31:22.610918] Url Request Success\n",
      "[2022-04-26 22:31:23.043612] Url Request Success\n",
      "[2022-04-26 22:31:23.441245] Url Request Success\n",
      "[2022-04-26 22:31:23.827732] Url Request Success\n",
      "[2022-04-26 22:31:24.244038] Url Request Success\n",
      "[2022-04-26 22:31:24.674011] Url Request Success\n",
      "[2022-04-26 22:31:25.130230] Url Request Success\n",
      "[2022-04-26 22:31:25.599638] Url Request Success\n",
      "[2022-04-26 22:31:26.078753] Url Request Success\n",
      "[2022-04-26 22:31:26.479230] Url Request Success\n",
      "[2022-04-26 22:31:26.865838] Url Request Success\n",
      "[2022-04-26 22:31:27.339692] Url Request Success\n",
      "[2022-04-26 22:31:27.733918] Url Request Success\n",
      "[2022-04-26 22:31:28.034759] Url Request Success\n",
      "[2022-04-26 22:31:28.209801] Url Request Success\n",
      "[2022-04-26 22:31:28.376166] Url Request Success\n",
      "[2022-04-26 22:31:28.786312] Url Request Success\n",
      "[2022-04-26 22:31:29.190171] Url Request Success\n",
      "[2022-04-26 22:31:29.617138] Url Request Success\n",
      "[2022-04-26 22:31:30.030716] Url Request Success\n",
      "[2022-04-26 22:31:30.449013] Url Request Success\n",
      "[2022-04-26 22:31:30.833052] Url Request Success\n",
      "[2022-04-26 22:31:31.218749] Url Request Success\n",
      "[2022-04-26 22:31:31.574287] Url Request Success\n",
      "[2022-04-26 22:31:31.875208] Url Request Success\n",
      "[2022-04-26 22:31:32.033827] Url Request Success\n",
      "[2022-04-26 22:31:32.464620] Url Request Success\n",
      "[2022-04-26 22:31:32.869659] Url Request Success\n",
      "[2022-04-26 22:31:33.312967] Url Request Success\n",
      "[2022-04-26 22:31:33.718583] Url Request Success\n",
      "[2022-04-26 22:31:34.114592] Url Request Success\n",
      "[2022-04-26 22:31:34.513046] Url Request Success\n",
      "[2022-04-26 22:31:34.912108] Url Request Success\n",
      "[2022-04-26 22:31:35.278479] Url Request Success\n",
      "[2022-04-26 22:31:35.593276] Url Request Success\n",
      "[2022-04-26 22:31:35.907781] Url Request Success\n",
      "[2022-04-26 22:31:36.306461] Url Request Success\n",
      "[2022-04-26 22:31:36.673018] Url Request Success\n",
      "[2022-04-26 22:31:37.070567] Url Request Success\n",
      "[2022-04-26 22:31:37.269724] Url Request Success\n",
      "[2022-04-26 22:31:37.421246] Url Request Success\n",
      "[2022-04-26 22:31:37.595110] Url Request Success\n",
      "[2022-04-26 22:31:37.757497] Url Request Success\n",
      "[2022-04-26 22:31:37.902542] Url Request Success\n",
      "[2022-04-26 22:31:38.148951] Url Request Success\n",
      "[2022-04-26 22:31:38.307925] Url Request Success\n",
      "[2022-04-26 22:31:38.728837] Url Request Success\n",
      "[2022-04-26 22:31:39.131189] Url Request Success\n",
      "[2022-04-26 22:31:39.530194] Url Request Success\n",
      "[2022-04-26 22:31:39.799746] Url Request Success\n",
      "[2022-04-26 22:31:39.951743] Url Request Success\n",
      "[2022-04-26 22:31:40.202743] Url Request Success\n",
      "[2022-04-26 22:31:40.388744] Url Request Success\n",
      "[2022-04-26 22:31:40.570753] Url Request Success\n",
      "[2022-04-26 22:31:40.752588] Url Request Success\n",
      "[2022-04-26 22:31:40.982581] Url Request Success\n",
      "[2022-04-26 22:31:41.223585] Url Request Success\n",
      "[2022-04-26 22:31:41.399590] Url Request Success\n",
      "[2022-04-26 22:31:41.605590] Url Request Success\n",
      "[2022-04-26 22:31:41.766254] Url Request Success\n",
      "[2022-04-26 22:31:41.992260] Url Request Success\n",
      "[2022-04-26 22:31:42.191262] Url Request Success\n",
      "[2022-04-26 22:31:42.366253] Url Request Success\n",
      "[2022-04-26 22:31:42.521258] Url Request Success\n",
      "[2022-04-26 22:31:42.672705] Url Request Success\n",
      "[2022-04-26 22:31:42.844932] Url Request Success\n",
      "[2022-04-26 22:31:43.363506] Url Request Success\n",
      "[2022-04-26 22:31:43.781183] Url Request Success\n",
      "[2022-04-26 22:31:43.972182] Url Request Success\n",
      "[2022-04-26 22:31:44.126195] Url Request Success\n",
      "[2022-04-26 22:31:44.316585] Url Request Success\n",
      "[2022-04-26 22:31:44.517590] Url Request Success\n",
      "[2022-04-26 22:31:44.762824] Url Request Success\n",
      "[2022-04-26 22:31:44.936837] Url Request Success\n",
      "[2022-04-26 22:31:45.112886] Url Request Success\n",
      "[2022-04-26 22:31:45.263903] Url Request Success\n",
      "[2022-04-26 22:31:45.670951] Url Request Success\n",
      "[2022-04-26 22:31:46.101355] Url Request Success\n",
      "[2022-04-26 22:31:46.499480] Url Request Success\n",
      "[2022-04-26 22:31:46.718479] Url Request Success\n",
      "[2022-04-26 22:31:46.901488] Url Request Success\n",
      "[2022-04-26 22:31:47.132478] Url Request Success\n",
      "[2022-04-26 22:31:47.315481] Url Request Success\n",
      "[2022-04-26 22:31:47.515483] Url Request Success\n",
      "[2022-04-26 22:31:47.682504] Url Request Success\n",
      "[2022-04-26 22:31:47.891517] Url Request Success\n",
      "[2022-04-26 22:31:48.322959] Url Request Success\n",
      "[2022-04-26 22:31:48.755496] Url Request Success\n",
      "[2022-04-26 22:31:49.162132] Url Request Success\n",
      "[2022-04-26 22:31:49.548606] Url Request Success\n",
      "[2022-04-26 22:31:49.866144] Url Request Success\n",
      "[2022-04-26 22:31:50.017002] Url Request Success\n",
      "[2022-04-26 22:31:50.179001] Url Request Success\n",
      "[2022-04-26 22:31:50.344947] Url Request Success\n",
      "[2022-04-26 22:31:50.528953] Url Request Success\n",
      "[2022-04-26 22:31:50.725987] Url Request Success\n",
      "[2022-04-26 22:31:50.918964] Url Request Success\n",
      "[2022-04-26 22:31:51.104962] Url Request Success\n",
      "[2022-04-26 22:31:51.264962] Url Request Success\n",
      "[2022-04-26 22:31:51.443971] Url Request Success\n",
      "[2022-04-26 22:31:51.615950] Url Request Success\n",
      "[2022-04-26 22:31:51.797957] Url Request Success\n",
      "[2022-04-26 22:31:51.993961] Url Request Success\n",
      "[2022-04-26 22:31:52.192955] Url Request Success\n",
      "[2022-04-26 22:31:52.359956] Url Request Success\n",
      "[2022-04-26 22:31:52.517951] Url Request Success\n",
      "[2022-04-26 22:31:52.948955] Url Request Success\n",
      "[2022-04-26 22:31:53.308561] Url Request Success\n",
      "[2022-04-26 22:31:53.526569] Url Request Success\n",
      "[2022-04-26 22:31:53.748572] Url Request Success\n",
      "[2022-04-26 22:31:53.989580] Url Request Success\n",
      "[2022-04-26 22:31:54.179668] Url Request Success\n",
      "[2022-04-26 22:31:54.334575] Url Request Success\n",
      "[2022-04-26 22:31:54.524435] Url Request Success\n",
      "[2022-04-26 22:31:54.693421] Url Request Success\n",
      "[2022-04-26 22:31:54.872436] Url Request Success\n",
      "[2022-04-26 22:31:55.047425] Url Request Success\n",
      "[2022-04-26 22:31:55.213422] Url Request Success\n",
      "[2022-04-26 22:31:55.377604] Url Request Success\n",
      "[2022-04-26 22:31:55.550185] Url Request Success\n",
      "[2022-04-26 22:31:55.722200] Url Request Success\n",
      "[2022-04-26 22:31:55.892196] Url Request Success\n",
      "[2022-04-26 22:31:56.062197] Url Request Success\n",
      "[2022-04-26 22:31:56.231197] Url Request Success\n",
      "[2022-04-26 22:31:56.400220] Url Request Success\n",
      "[2022-04-26 22:31:56.581209] Url Request Success\n",
      "[2022-04-26 22:31:56.749218] Url Request Success\n",
      "[2022-04-26 22:31:56.905202] Url Request Success\n",
      "[2022-04-26 22:31:57.050032] Url Request Success\n",
      "[2022-04-26 22:31:57.218029] Url Request Success\n",
      "[2022-04-26 22:31:57.375189] Url Request Success\n",
      "[2022-04-26 22:31:57.541195] Url Request Success\n",
      "[2022-04-26 22:31:57.699452] Url Request Success\n",
      "[2022-04-26 22:31:57.860476] Url Request Success\n",
      "[2022-04-26 22:31:58.006481] Url Request Success\n",
      "[2022-04-26 22:31:58.162488] Url Request Success\n",
      "[2022-04-26 22:31:58.504082] Url Request Success\n",
      "[2022-04-26 22:31:58.716076] Url Request Success\n",
      "[2022-04-26 22:31:58.925095] Url Request Success\n",
      "[2022-04-26 22:31:59.127103] Url Request Success\n",
      "[2022-04-26 22:31:59.333082] Url Request Success\n",
      "[2022-04-26 22:31:59.499579] Url Request Success\n",
      "[2022-04-26 22:31:59.690224] Url Request Success\n",
      "[2022-04-26 22:31:59.852222] Url Request Success\n",
      "[2022-04-26 22:32:00.029225] Url Request Success\n",
      "[2022-04-26 22:32:00.338221] Url Request Success\n",
      "[2022-04-26 22:32:00.730292] Url Request Success\n",
      "[2022-04-26 22:32:01.072734] Url Request Success\n",
      "[2022-04-26 22:32:01.262880] Url Request Success\n",
      "[2022-04-26 22:32:01.448899] Url Request Success\n",
      "[2022-04-26 22:32:01.602134] Url Request Success\n",
      "[2022-04-26 22:32:01.774121] Url Request Success\n",
      "[2022-04-26 22:32:01.958121] Url Request Success\n",
      "[2022-04-26 22:32:02.135130] Url Request Success\n",
      "[2022-04-26 22:32:02.326140] Url Request Success\n",
      "[2022-04-26 22:32:02.533160] Url Request Success\n",
      "[2022-04-26 22:32:02.951582] Url Request Success\n",
      "[2022-04-26 22:32:03.357894] Url Request Success\n",
      "[2022-04-26 22:32:03.746231] Url Request Success\n",
      "[2022-04-26 22:32:04.150223] Url Request Success\n",
      "[2022-04-26 22:32:04.380240] Url Request Success\n",
      "[2022-04-26 22:32:04.597225] Url Request Success\n",
      "[2022-04-26 22:32:05.216225] Url Request Success\n",
      "[2022-04-26 22:32:05.582228] Url Request Success\n",
      "[2022-04-26 22:32:05.907229] Url Request Success\n",
      "[2022-04-26 22:32:06.477233] Url Request Success\n",
      "[2022-04-26 22:32:06.847231] Url Request Success\n",
      "[2022-04-26 22:32:07.217230] Url Request Success\n",
      "[2022-04-26 22:32:07.444232] Url Request Success\n",
      "[2022-04-26 22:32:07.683232] Url Request Success\n",
      "[2022-04-26 22:32:07.927232] Url Request Success\n",
      "[2022-04-26 22:32:08.166232] Url Request Success\n",
      "[2022-04-26 22:32:08.386233] Url Request Success\n",
      "[2022-04-26 22:32:08.674234] Url Request Success\n",
      "[2022-04-26 22:32:08.977236] Url Request Success\n",
      "[2022-04-26 22:32:09.176234] Url Request Success\n",
      "[2022-04-26 22:32:09.443236] Url Request Success\n",
      "[2022-04-26 22:32:09.756237] Url Request Success\n",
      "[2022-04-26 22:32:10.099237] Url Request Success\n",
      "[2022-04-26 22:32:10.294237] Url Request Success\n",
      "[2022-04-26 22:32:10.723241] Url Request Success\n",
      "[2022-04-26 22:32:10.969239] Url Request Success\n",
      "[2022-04-26 22:32:11.264237] Url Request Success\n",
      "[2022-04-26 22:32:11.499241] Url Request Success\n",
      "[2022-04-26 22:32:11.877239] Url Request Success\n",
      "[2022-04-26 22:32:12.122241] Url Request Success\n",
      "[2022-04-26 22:32:12.412242] Url Request Success\n",
      "[2022-04-26 22:32:12.689241] Url Request Success\n",
      "[2022-04-26 22:32:12.983247] Url Request Success\n",
      "[2022-04-26 22:32:13.278243] Url Request Success\n",
      "[2022-04-26 22:32:13.523243] Url Request Success\n",
      "[2022-04-26 22:32:13.804248] Url Request Success\n",
      "[2022-04-26 22:32:14.054244] Url Request Success\n",
      "[2022-04-26 22:32:14.339244] Url Request Success\n",
      "[2022-04-26 22:32:14.659243] Url Request Success\n",
      "[2022-04-26 22:32:14.970248] Url Request Success\n",
      "[2022-04-26 22:32:15.439246] Url Request Success\n",
      "[2022-04-26 22:32:15.819248] Url Request Success\n",
      "[2022-04-26 22:32:16.152252] Url Request Success\n",
      "[2022-04-26 22:32:16.412250] Url Request Success\n",
      "[2022-04-26 22:32:16.677250] Url Request Success\n",
      "[2022-04-26 22:32:16.940252] Url Request Success\n",
      "[2022-04-26 22:32:17.150250] Url Request Success\n",
      "[2022-04-26 22:32:17.430253] Url Request Success\n",
      "[2022-04-26 22:32:17.664253] Url Request Success\n",
      "[2022-04-26 22:32:17.892251] Url Request Success\n",
      "[2022-04-26 22:32:18.180252] Url Request Success\n",
      "[2022-04-26 22:32:18.386254] Url Request Success\n",
      "[2022-04-26 22:32:18.582271] Url Request Success\n",
      "[2022-04-26 22:32:18.763254] Url Request Success\n",
      "[2022-04-26 22:32:18.940269] Url Request Success\n",
      "[2022-04-26 22:32:19.098536] Url Request Success\n",
      "[2022-04-26 22:32:19.255864] Url Request Success\n",
      "[2022-04-26 22:32:19.406857] Url Request Success\n",
      "[2022-04-26 22:32:19.544375] Url Request Success\n",
      "[2022-04-26 22:32:19.690568] Url Request Success\n",
      "[2022-04-26 22:32:19.932476] Url Request Success\n",
      "[2022-04-26 22:32:20.079193] Url Request Success\n",
      "[2022-04-26 22:32:20.234195] Url Request Success\n",
      "[2022-04-26 22:32:20.385100] Url Request Success\n",
      "[2022-04-26 22:32:20.526768] Url Request Success\n",
      "[2022-04-26 22:32:20.672160] Url Request Success\n",
      "[2022-04-26 22:32:20.812545] Url Request Success\n",
      "[2022-04-26 22:32:20.966335] Url Request Success\n",
      "[2022-04-26 22:32:21.111327] Url Request Success\n",
      "[2022-04-26 22:32:21.250151] Url Request Success\n"
     ]
    }
   ],
   "source": [
    "list_language = ['python', '파이썬', 'C', 'Java', '자바', 'C++', 'C#', 'VisualBasic', '비쥬얼베이직', 'JavaScript', '자바스크립트', 'SQL', '에스큐엘', \n",
    "                'PHP', 'Assemblylanguage', 'ClassicVisualBasic', 'Go', 'MATLAB', 'R', 'Groovy', 'Ruby', 'Swift', 'Fortran', 'Perl', 'Delphi']\n",
    "df_book = pd.DataFrame(columns=['title', 'author', 'price', 'publisher', 'pubdate', 'isbn', 'link', 'language'])\n",
    "\n",
    "for language in list_language:\n",
    "    for i in range(1, 1000, 100):\n",
    "        url = gen_search_url(\"book\", language, i, 100)\n",
    "        one_result = get_result_onpage(url)\n",
    "        result = get_fields(one_result)\n",
    "        result['language'] = language\n",
    "        df_book = pd.concat([df_book, result], axis=0, ignore_index=True)"
   ]
  },
  {
   "cell_type": "code",
   "execution_count": null,
   "metadata": {},
   "outputs": [],
   "source": []
  }
 ],
 "metadata": {
  "interpreter": {
   "hash": "352468c7d83455cc503b22fb24299b3f7eb0db724e08e1147f5907c2e25b99ff"
  },
  "kernelspec": {
   "display_name": "Python 3.9.7 64-bit",
   "language": "python",
   "name": "python3"
  },
  "language_info": {
   "codemirror_mode": {
    "name": "ipython",
    "version": 3
   },
   "file_extension": ".py",
   "mimetype": "text/x-python",
   "name": "python",
   "nbconvert_exporter": "python",
   "pygments_lexer": "ipython3",
   "version": "3.8.12"
  },
  "orig_nbformat": 4
 },
 "nbformat": 4,
 "nbformat_minor": 2
}
