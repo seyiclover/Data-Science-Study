{
 "cells": [
  {
   "cell_type": "markdown",
   "metadata": {},
   "source": [
    "### GBM"
   ]
  },
  {
   "cell_type": "code",
   "execution_count": 1,
   "metadata": {},
   "outputs": [
    {
     "data": {
      "text/html": [
       "<div>\n",
       "<style scoped>\n",
       "    .dataframe tbody tr th:only-of-type {\n",
       "        vertical-align: middle;\n",
       "    }\n",
       "\n",
       "    .dataframe tbody tr th {\n",
       "        vertical-align: top;\n",
       "    }\n",
       "\n",
       "    .dataframe thead th {\n",
       "        text-align: right;\n",
       "    }\n",
       "</style>\n",
       "<table border=\"1\" class=\"dataframe\">\n",
       "  <thead>\n",
       "    <tr style=\"text-align: right;\">\n",
       "      <th></th>\n",
       "      <th>column_index</th>\n",
       "      <th>column_name</th>\n",
       "    </tr>\n",
       "  </thead>\n",
       "  <tbody>\n",
       "    <tr>\n",
       "      <th>0</th>\n",
       "      <td>1</td>\n",
       "      <td>tBodyAcc-mean()-X</td>\n",
       "    </tr>\n",
       "    <tr>\n",
       "      <th>1</th>\n",
       "      <td>2</td>\n",
       "      <td>tBodyAcc-mean()-Y</td>\n",
       "    </tr>\n",
       "    <tr>\n",
       "      <th>2</th>\n",
       "      <td>3</td>\n",
       "      <td>tBodyAcc-mean()-Z</td>\n",
       "    </tr>\n",
       "    <tr>\n",
       "      <th>3</th>\n",
       "      <td>4</td>\n",
       "      <td>tBodyAcc-std()-X</td>\n",
       "    </tr>\n",
       "    <tr>\n",
       "      <th>4</th>\n",
       "      <td>5</td>\n",
       "      <td>tBodyAcc-std()-Y</td>\n",
       "    </tr>\n",
       "  </tbody>\n",
       "</table>\n",
       "</div>"
      ],
      "text/plain": [
       "   column_index        column_name\n",
       "0             1  tBodyAcc-mean()-X\n",
       "1             2  tBodyAcc-mean()-Y\n",
       "2             3  tBodyAcc-mean()-Z\n",
       "3             4   tBodyAcc-std()-X\n",
       "4             5   tBodyAcc-std()-Y"
      ]
     },
     "execution_count": 1,
     "metadata": {},
     "output_type": "execute_result"
    }
   ],
   "source": [
    "import pandas as pd \n",
    "\n",
    "url = 'https://raw.githubusercontent.com/PinkWink/ML_tutorial/master/dataset/HAR_dataset/features.txt'\n",
    "\n",
    "feature_name_df = pd.read_csv(url, sep='\\s+', header=None,   # sep='\\s+' : 공백이 여러 개 있을 수 있음  \n",
    "                            names=['column_index', 'column_name'])  # 컬럼명 지정 \n",
    "                \n",
    "feature_name_df.head()"
   ]
  },
  {
   "cell_type": "code",
   "execution_count": 2,
   "metadata": {},
   "outputs": [
    {
     "data": {
      "text/plain": [
       "['tBodyAcc-mean()-X',\n",
       " 'tBodyAcc-mean()-Y',\n",
       " 'tBodyAcc-mean()-Z',\n",
       " 'tBodyAcc-std()-X',\n",
       " 'tBodyAcc-std()-Y']"
      ]
     },
     "execution_count": 2,
     "metadata": {},
     "output_type": "execute_result"
    }
   ],
   "source": [
    "feature_name = feature_name_df.iloc[:, 1].values.tolist() # 모든 행의 두별 째 열 \n",
    "feature_name[:5]"
   ]
  },
  {
   "cell_type": "code",
   "execution_count": 3,
   "metadata": {},
   "outputs": [],
   "source": [
    "X_train_url = 'https://raw.githubusercontent.com/PinkWink/ML_tutorial/master/dataset/HAR_dataset/train/X_train.txt'\n",
    "X_test_url = 'https://raw.githubusercontent.com/PinkWink/ML_tutorial/master/dataset/HAR_dataset/test/X_test.txt'\n",
    "\n",
    "X_train = pd.read_csv(X_train_url, sep='\\s+', header=None)\n",
    "X_test = pd.read_csv(X_test_url, sep='\\s+', header=None)"
   ]
  },
  {
   "cell_type": "code",
   "execution_count": 4,
   "metadata": {},
   "outputs": [],
   "source": [
    "X_train.columns = feature_name\n",
    "X_test.columns = feature_name"
   ]
  },
  {
   "cell_type": "code",
   "execution_count": 5,
   "metadata": {},
   "outputs": [],
   "source": [
    "y_train_url = 'https://raw.githubusercontent.com/PinkWink/ML_tutorial/master/dataset/HAR_dataset/train/y_train.txt'\n",
    "y_test_url = 'https://raw.githubusercontent.com/PinkWink/ML_tutorial/master/dataset/HAR_dataset/test/y_test.txt'\n",
    "\n",
    "y_train = pd.read_csv(y_train_url, sep='\\s+', header=None, names=['action'])\n",
    "y_test = pd.read_csv(y_test_url, sep='\\s+', header=None, names=['action'])"
   ]
  },
  {
   "cell_type": "code",
   "execution_count": 6,
   "metadata": {},
   "outputs": [],
   "source": [
    "from sklearn.ensemble import GradientBoostingClassifier\n",
    "from sklearn.metrics import accuracy_score\n",
    "import time\n",
    "import warnings\n",
    "\n",
    "warnings.filterwarnings('ignore')"
   ]
  },
  {
   "cell_type": "code",
   "execution_count": 7,
   "metadata": {},
   "outputs": [
    {
     "name": "stdout",
     "output_type": "stream",
     "text": [
      "Acc :  0.9385816084153377\n",
      "Fit time :  1002.6368486881256\n"
     ]
    }
   ],
   "source": [
    "start_time = time.time()\n",
    "gb_clf = GradientBoostingClassifier(random_state=13)\n",
    "gb_clf.fit(X_train,y_train)\n",
    "gb_pred = gb_clf.predict(X_test)\n",
    "\n",
    "print('Acc : ', accuracy_score(y_test, gb_pred))\n",
    "print('Fit time : ', time.time() - start_time)"
   ]
  },
  {
   "cell_type": "markdown",
   "metadata": {},
   "source": [
    "#### 아래 코드는 실행하면 40분 넘게 걸림 "
   ]
  },
  {
   "cell_type": "code",
   "execution_count": null,
   "metadata": {},
   "outputs": [],
   "source": [
    "# GridSearch\n",
    "\n",
    "from sklearn.model_selection import GridSearchCV\n",
    "\n",
    "params = {\n",
    "    'n_estimators' : [100, 500],\n",
    "    'learning_rate' : [0.05, 0.1]\n",
    "}\n",
    "\n",
    "start_time = time.time()\n",
    "grid = GridSearchCV(gb_clf, param_grid=params, cv=2, verbose=1, n_jobs=-1)\n",
    "grid.fit(X_train, y_train)\n",
    "print('Fit time : ', time.time() - start_time)"
   ]
  },
  {
   "cell_type": "markdown",
   "metadata": {},
   "source": [
    "### XGBoost"
   ]
  },
  {
   "cell_type": "code",
   "execution_count": 10,
   "metadata": {},
   "outputs": [
    {
     "name": "stdout",
     "output_type": "stream",
     "text": [
      "Collecting package metadata (current_repodata.json): ...working... done\n",
      "Solving environment: ...working... done\n",
      "\n",
      "## Package Plan ##\n",
      "\n",
      "  environment location: C:\\Users\\LEESEYI\\miniconda3\\envs\\ds_study\n",
      "\n",
      "  added / updated specs:\n",
      "    - xgboost\n",
      "\n",
      "\n",
      "The following packages will be downloaded:\n",
      "\n",
      "    package                    |            build\n",
      "    ---------------------------|-----------------\n",
      "    _py-xgboost-mutex-2.0      |            cpu_0          12 KB\n",
      "    libxgboost-1.5.0           |       hd77b12b_1         1.3 MB\n",
      "    py-xgboost-1.5.0           |   py38haa95532_1         171 KB\n",
      "    xgboost-1.5.0              |   py38haa95532_1          26 KB\n",
      "    ------------------------------------------------------------\n",
      "                                           Total:         1.5 MB\n",
      "\n",
      "The following NEW packages will be INSTALLED:\n",
      "\n",
      "  _py-xgboost-mutex  pkgs/main/win-64::_py-xgboost-mutex-2.0-cpu_0\n",
      "  libxgboost         pkgs/main/win-64::libxgboost-1.5.0-hd77b12b_1\n",
      "  py-xgboost         pkgs/main/win-64::py-xgboost-1.5.0-py38haa95532_1\n",
      "  xgboost            pkgs/main/win-64::xgboost-1.5.0-py38haa95532_1\n",
      "\n",
      "The following packages will be UPDATED:\n",
      "\n",
      "  ca-certificates                      2022.3.29-haa95532_0 --> 2022.3.29-haa95532_1\n",
      "\n",
      "\n",
      "\n",
      "Downloading and Extracting Packages\n",
      "\n",
      "_py-xgboost-mutex-2. | 12 KB     |            |   0% \n",
      "_py-xgboost-mutex-2. | 12 KB     | ########## | 100% \n",
      "_py-xgboost-mutex-2. | 12 KB     | ########## | 100% \n",
      "\n",
      "py-xgboost-1.5.0     | 171 KB    |            |   0% \n",
      "py-xgboost-1.5.0     | 171 KB    | ########## | 100% \n",
      "py-xgboost-1.5.0     | 171 KB    | ########## | 100% \n",
      "\n",
      "libxgboost-1.5.0     | 1.3 MB    |            |   0% \n",
      "libxgboost-1.5.0     | 1.3 MB    | ########## | 100% \n",
      "libxgboost-1.5.0     | 1.3 MB    | ########## | 100% \n",
      "\n",
      "xgboost-1.5.0        | 26 KB     |            |   0% \n",
      "xgboost-1.5.0        | 26 KB     | ########## | 100% \n",
      "xgboost-1.5.0        | 26 KB     | ########## | 100% \n",
      "Preparing transaction: ...working... done\n",
      "Verifying transaction: ...working... done\n",
      "Executing transaction: ...working... done\n"
     ]
    }
   ],
   "source": [
    "!conda install -y xgboost"
   ]
  },
  {
   "cell_type": "code",
   "execution_count": 8,
   "metadata": {},
   "outputs": [
    {
     "name": "stdout",
     "output_type": "stream",
     "text": [
      "[16:59:05] WARNING: ..\\src\\learner.cc:1115: Starting in XGBoost 1.3.0, the default evaluation metric used with the objective 'multi:softprob' was changed from 'merror' to 'mlogloss'. Explicitly set eval_metric if you'd like to restore the old behavior.\n",
      "Fit time :  346.10499906539917\n"
     ]
    }
   ],
   "source": [
    "from xgboost import XGBClassifier\n",
    "\n",
    "start_time = time.time()\n",
    "xgb = XGBClassifier(n_estimators = 400, learning_rate = 0.1, max_depth = 3)\n",
    "# sklearn의 모델들은 pandas 데이터들을 잘 받아들임\n",
    "# 하지만 xgb는 np.array 형태로 넣어줘야 하기 때문에 .values로\n",
    "xgb.fit(X_train.values, y_train)\n",
    "print('Fit time : ', time.time() - start_time)"
   ]
  },
  {
   "cell_type": "code",
   "execution_count": null,
   "metadata": {},
   "outputs": [],
   "source": [
    "# gridSearch 실행하면 너무 오래 걸림 \n",
    "accuracy_score(y_test, grid.estimator.predict(X_test.values))"
   ]
  },
  {
   "cell_type": "markdown",
   "metadata": {},
   "source": [
    "#### 조기 종료 조건과 검증데이터 지정 "
   ]
  },
  {
   "cell_type": "code",
   "execution_count": 11,
   "metadata": {},
   "outputs": [
    {
     "name": "stdout",
     "output_type": "stream",
     "text": [
      "[17:10:13] WARNING: ..\\src\\learner.cc:1115: Starting in XGBoost 1.3.0, the default evaluation metric used with the objective 'multi:softprob' was changed from 'merror' to 'mlogloss'. Explicitly set eval_metric if you'd like to restore the old behavior.\n",
      "[0]\tvalidation_0-mlogloss:1.58932\n",
      "[1]\tvalidation_0-mlogloss:1.43266\n",
      "[2]\tvalidation_0-mlogloss:1.30322\n",
      "[3]\tvalidation_0-mlogloss:1.19383\n",
      "[4]\tvalidation_0-mlogloss:1.10067\n",
      "[5]\tvalidation_0-mlogloss:1.01957\n",
      "[6]\tvalidation_0-mlogloss:0.94662\n",
      "[7]\tvalidation_0-mlogloss:0.88249\n",
      "[8]\tvalidation_0-mlogloss:0.82727\n",
      "[9]\tvalidation_0-mlogloss:0.77601\n",
      "[10]\tvalidation_0-mlogloss:0.72925\n",
      "[11]\tvalidation_0-mlogloss:0.68936\n",
      "[12]\tvalidation_0-mlogloss:0.65128\n",
      "[13]\tvalidation_0-mlogloss:0.61844\n",
      "[14]\tvalidation_0-mlogloss:0.58748\n",
      "[15]\tvalidation_0-mlogloss:0.55894\n",
      "[16]\tvalidation_0-mlogloss:0.53410\n",
      "[17]\tvalidation_0-mlogloss:0.50956\n",
      "[18]\tvalidation_0-mlogloss:0.48868\n",
      "[19]\tvalidation_0-mlogloss:0.46809\n",
      "[20]\tvalidation_0-mlogloss:0.45075\n",
      "[21]\tvalidation_0-mlogloss:0.43385\n",
      "[22]\tvalidation_0-mlogloss:0.41768\n",
      "[23]\tvalidation_0-mlogloss:0.40316\n",
      "[24]\tvalidation_0-mlogloss:0.38937\n",
      "[25]\tvalidation_0-mlogloss:0.37645\n",
      "[26]\tvalidation_0-mlogloss:0.36394\n",
      "[27]\tvalidation_0-mlogloss:0.35407\n",
      "[28]\tvalidation_0-mlogloss:0.34354\n",
      "[29]\tvalidation_0-mlogloss:0.33333\n",
      "[30]\tvalidation_0-mlogloss:0.32486\n",
      "[31]\tvalidation_0-mlogloss:0.31667\n",
      "[32]\tvalidation_0-mlogloss:0.30627\n",
      "[33]\tvalidation_0-mlogloss:0.29953\n",
      "[34]\tvalidation_0-mlogloss:0.29340\n",
      "[35]\tvalidation_0-mlogloss:0.28661\n",
      "[36]\tvalidation_0-mlogloss:0.27952\n",
      "[37]\tvalidation_0-mlogloss:0.27353\n",
      "[38]\tvalidation_0-mlogloss:0.26796\n",
      "[39]\tvalidation_0-mlogloss:0.26233\n",
      "[40]\tvalidation_0-mlogloss:0.25772\n",
      "[41]\tvalidation_0-mlogloss:0.25279\n",
      "[42]\tvalidation_0-mlogloss:0.24838\n",
      "[43]\tvalidation_0-mlogloss:0.24271\n",
      "[44]\tvalidation_0-mlogloss:0.23839\n",
      "[45]\tvalidation_0-mlogloss:0.23486\n",
      "[46]\tvalidation_0-mlogloss:0.23099\n",
      "[47]\tvalidation_0-mlogloss:0.22687\n",
      "[48]\tvalidation_0-mlogloss:0.22315\n",
      "[49]\tvalidation_0-mlogloss:0.22017\n",
      "[50]\tvalidation_0-mlogloss:0.21749\n",
      "[51]\tvalidation_0-mlogloss:0.21397\n",
      "[52]\tvalidation_0-mlogloss:0.21145\n",
      "[53]\tvalidation_0-mlogloss:0.20966\n",
      "[54]\tvalidation_0-mlogloss:0.20670\n",
      "[55]\tvalidation_0-mlogloss:0.20510\n",
      "[56]\tvalidation_0-mlogloss:0.20277\n",
      "[57]\tvalidation_0-mlogloss:0.19985\n",
      "[58]\tvalidation_0-mlogloss:0.19818\n",
      "[59]\tvalidation_0-mlogloss:0.19585\n",
      "[60]\tvalidation_0-mlogloss:0.19491\n",
      "[61]\tvalidation_0-mlogloss:0.19256\n",
      "[62]\tvalidation_0-mlogloss:0.19033\n",
      "[63]\tvalidation_0-mlogloss:0.18873\n",
      "[64]\tvalidation_0-mlogloss:0.18706\n",
      "[65]\tvalidation_0-mlogloss:0.18500\n",
      "[66]\tvalidation_0-mlogloss:0.18398\n",
      "[67]\tvalidation_0-mlogloss:0.18175\n",
      "[68]\tvalidation_0-mlogloss:0.18022\n",
      "[69]\tvalidation_0-mlogloss:0.17856\n",
      "[70]\tvalidation_0-mlogloss:0.17689\n",
      "[71]\tvalidation_0-mlogloss:0.17568\n",
      "[72]\tvalidation_0-mlogloss:0.17435\n",
      "[73]\tvalidation_0-mlogloss:0.17259\n",
      "[74]\tvalidation_0-mlogloss:0.17145\n",
      "[75]\tvalidation_0-mlogloss:0.17088\n",
      "[76]\tvalidation_0-mlogloss:0.16982\n",
      "[77]\tvalidation_0-mlogloss:0.16823\n",
      "[78]\tvalidation_0-mlogloss:0.16665\n",
      "[79]\tvalidation_0-mlogloss:0.16537\n",
      "[80]\tvalidation_0-mlogloss:0.16412\n",
      "[81]\tvalidation_0-mlogloss:0.16253\n",
      "[82]\tvalidation_0-mlogloss:0.16184\n",
      "[83]\tvalidation_0-mlogloss:0.16128\n",
      "[84]\tvalidation_0-mlogloss:0.15987\n",
      "[85]\tvalidation_0-mlogloss:0.15909\n",
      "[86]\tvalidation_0-mlogloss:0.15831\n",
      "[87]\tvalidation_0-mlogloss:0.15767\n",
      "[88]\tvalidation_0-mlogloss:0.15720\n",
      "[89]\tvalidation_0-mlogloss:0.15679\n",
      "[90]\tvalidation_0-mlogloss:0.15637\n",
      "[91]\tvalidation_0-mlogloss:0.15582\n",
      "[92]\tvalidation_0-mlogloss:0.15525\n",
      "[93]\tvalidation_0-mlogloss:0.15431\n",
      "[94]\tvalidation_0-mlogloss:0.15365\n",
      "[95]\tvalidation_0-mlogloss:0.15294\n",
      "[96]\tvalidation_0-mlogloss:0.15271\n",
      "[97]\tvalidation_0-mlogloss:0.15216\n",
      "[98]\tvalidation_0-mlogloss:0.15130\n",
      "[99]\tvalidation_0-mlogloss:0.15023\n",
      "[100]\tvalidation_0-mlogloss:0.15017\n",
      "[101]\tvalidation_0-mlogloss:0.14987\n",
      "[102]\tvalidation_0-mlogloss:0.14935\n",
      "[103]\tvalidation_0-mlogloss:0.14943\n",
      "[104]\tvalidation_0-mlogloss:0.14863\n",
      "[105]\tvalidation_0-mlogloss:0.14813\n",
      "[106]\tvalidation_0-mlogloss:0.14792\n",
      "[107]\tvalidation_0-mlogloss:0.14751\n",
      "[108]\tvalidation_0-mlogloss:0.14676\n",
      "[109]\tvalidation_0-mlogloss:0.14572\n",
      "[110]\tvalidation_0-mlogloss:0.14577\n",
      "[111]\tvalidation_0-mlogloss:0.14491\n",
      "[112]\tvalidation_0-mlogloss:0.14464\n",
      "[113]\tvalidation_0-mlogloss:0.14423\n",
      "[114]\tvalidation_0-mlogloss:0.14428\n",
      "[115]\tvalidation_0-mlogloss:0.14429\n",
      "[116]\tvalidation_0-mlogloss:0.14386\n",
      "[117]\tvalidation_0-mlogloss:0.14333\n",
      "[118]\tvalidation_0-mlogloss:0.14346\n",
      "[119]\tvalidation_0-mlogloss:0.14223\n",
      "[120]\tvalidation_0-mlogloss:0.14232\n",
      "[121]\tvalidation_0-mlogloss:0.14201\n",
      "[122]\tvalidation_0-mlogloss:0.14159\n",
      "[123]\tvalidation_0-mlogloss:0.14149\n",
      "[124]\tvalidation_0-mlogloss:0.14080\n",
      "[125]\tvalidation_0-mlogloss:0.14059\n",
      "[126]\tvalidation_0-mlogloss:0.14054\n",
      "[127]\tvalidation_0-mlogloss:0.14050\n",
      "[128]\tvalidation_0-mlogloss:0.14095\n",
      "[129]\tvalidation_0-mlogloss:0.14090\n",
      "[130]\tvalidation_0-mlogloss:0.14069\n",
      "[131]\tvalidation_0-mlogloss:0.14029\n",
      "[132]\tvalidation_0-mlogloss:0.14013\n",
      "[133]\tvalidation_0-mlogloss:0.13989\n",
      "[134]\tvalidation_0-mlogloss:0.13948\n",
      "[135]\tvalidation_0-mlogloss:0.13883\n",
      "[136]\tvalidation_0-mlogloss:0.13937\n",
      "[137]\tvalidation_0-mlogloss:0.13930\n",
      "[138]\tvalidation_0-mlogloss:0.13918\n",
      "[139]\tvalidation_0-mlogloss:0.13908\n",
      "[140]\tvalidation_0-mlogloss:0.13906\n",
      "[141]\tvalidation_0-mlogloss:0.13978\n",
      "[142]\tvalidation_0-mlogloss:0.13942\n",
      "[143]\tvalidation_0-mlogloss:0.13911\n",
      "[144]\tvalidation_0-mlogloss:0.13847\n",
      "[145]\tvalidation_0-mlogloss:0.13840\n",
      "[146]\tvalidation_0-mlogloss:0.13869\n",
      "[147]\tvalidation_0-mlogloss:0.13870\n",
      "[148]\tvalidation_0-mlogloss:0.13882\n",
      "[149]\tvalidation_0-mlogloss:0.13930\n",
      "[150]\tvalidation_0-mlogloss:0.13923\n",
      "[151]\tvalidation_0-mlogloss:0.13938\n",
      "[152]\tvalidation_0-mlogloss:0.13915\n",
      "[153]\tvalidation_0-mlogloss:0.13907\n",
      "[154]\tvalidation_0-mlogloss:0.13880\n",
      "Fit time :  241.17723512649536\n"
     ]
    }
   ],
   "source": [
    "evals = [ (X_test.values, y_test)]\n",
    "\n",
    "start_time = time.time()\n",
    "xgb = XGBClassifier(n_estimators=400, learning_rate=0.1, max_depth=3)\n",
    "xgb.fit(X_train.values, y_train, early_stopping_rounds=10, eval_set=evals)\n",
    "print('Fit time : ', time.time() - start_time)"
   ]
  },
  {
   "cell_type": "markdown",
   "metadata": {},
   "source": [
    "### LightGBM"
   ]
  },
  {
   "cell_type": "code",
   "execution_count": null,
   "metadata": {},
   "outputs": [],
   "source": [
    "!pip install lightgbm"
   ]
  },
  {
   "cell_type": "code",
   "execution_count": 12,
   "metadata": {},
   "outputs": [
    {
     "name": "stdout",
     "output_type": "stream",
     "text": [
      "[1]\tvalid_0's multi_logloss: 1.4404\n",
      "[2]\tvalid_0's multi_logloss: 1.21574\n",
      "[3]\tvalid_0's multi_logloss: 1.04795\n",
      "[4]\tvalid_0's multi_logloss: 0.913299\n",
      "[5]\tvalid_0's multi_logloss: 0.812686\n",
      "[6]\tvalid_0's multi_logloss: 0.725964\n",
      "[7]\tvalid_0's multi_logloss: 0.652995\n",
      "[8]\tvalid_0's multi_logloss: 0.591598\n",
      "[9]\tvalid_0's multi_logloss: 0.539383\n",
      "[10]\tvalid_0's multi_logloss: 0.499944\n",
      "[11]\tvalid_0's multi_logloss: 0.462273\n",
      "[12]\tvalid_0's multi_logloss: 0.429676\n",
      "[13]\tvalid_0's multi_logloss: 0.401908\n",
      "[14]\tvalid_0's multi_logloss: 0.377718\n",
      "[15]\tvalid_0's multi_logloss: 0.357455\n",
      "[16]\tvalid_0's multi_logloss: 0.339918\n",
      "[17]\tvalid_0's multi_logloss: 0.325799\n",
      "[18]\tvalid_0's multi_logloss: 0.314716\n",
      "[19]\tvalid_0's multi_logloss: 0.301914\n",
      "[20]\tvalid_0's multi_logloss: 0.292755\n",
      "[21]\tvalid_0's multi_logloss: 0.284754\n",
      "[22]\tvalid_0's multi_logloss: 0.276745\n",
      "[23]\tvalid_0's multi_logloss: 0.270387\n",
      "[24]\tvalid_0's multi_logloss: 0.265765\n",
      "[25]\tvalid_0's multi_logloss: 0.260089\n",
      "[26]\tvalid_0's multi_logloss: 0.256178\n",
      "[27]\tvalid_0's multi_logloss: 0.251189\n",
      "[28]\tvalid_0's multi_logloss: 0.248143\n",
      "[29]\tvalid_0's multi_logloss: 0.246272\n",
      "[30]\tvalid_0's multi_logloss: 0.24341\n",
      "[31]\tvalid_0's multi_logloss: 0.241248\n",
      "[32]\tvalid_0's multi_logloss: 0.24022\n",
      "[33]\tvalid_0's multi_logloss: 0.239652\n",
      "[34]\tvalid_0's multi_logloss: 0.238179\n",
      "[35]\tvalid_0's multi_logloss: 0.23699\n",
      "[36]\tvalid_0's multi_logloss: 0.2361\n",
      "[37]\tvalid_0's multi_logloss: 0.233816\n",
      "[38]\tvalid_0's multi_logloss: 0.233106\n",
      "[39]\tvalid_0's multi_logloss: 0.233421\n",
      "[40]\tvalid_0's multi_logloss: 0.23376\n",
      "[41]\tvalid_0's multi_logloss: 0.234338\n",
      "[42]\tvalid_0's multi_logloss: 0.234543\n",
      "[43]\tvalid_0's multi_logloss: 0.234652\n",
      "[44]\tvalid_0's multi_logloss: 0.233933\n",
      "[45]\tvalid_0's multi_logloss: 0.234656\n",
      "[46]\tvalid_0's multi_logloss: 0.234617\n",
      "[47]\tvalid_0's multi_logloss: 0.235371\n",
      "[48]\tvalid_0's multi_logloss: 0.236855\n",
      "[49]\tvalid_0's multi_logloss: 0.235197\n",
      "[50]\tvalid_0's multi_logloss: 0.236224\n",
      "[51]\tvalid_0's multi_logloss: 0.236696\n",
      "[52]\tvalid_0's multi_logloss: 0.237868\n",
      "[53]\tvalid_0's multi_logloss: 0.236315\n",
      "[54]\tvalid_0's multi_logloss: 0.239717\n",
      "[55]\tvalid_0's multi_logloss: 0.241621\n",
      "[56]\tvalid_0's multi_logloss: 0.243416\n",
      "[57]\tvalid_0's multi_logloss: 0.244416\n",
      "[58]\tvalid_0's multi_logloss: 0.245904\n",
      "Fit time :  21.674386739730835\n"
     ]
    }
   ],
   "source": [
    "from lightgbm import LGBMClassifier\n",
    "\n",
    "start_time = time.time()\n",
    "lgbm = LGBMClassifier(n_estimators=400)\n",
    "lgbm.fit(X_train.values, y_train, early_stopping_rounds=20, eval_set=evals)\n",
    "\n",
    "print('Fit time : ', time.time() - start_time)"
   ]
  },
  {
   "cell_type": "markdown",
   "metadata": {},
   "source": []
  },
  {
   "cell_type": "code",
   "execution_count": null,
   "metadata": {},
   "outputs": [],
   "source": []
  }
 ],
 "metadata": {
  "interpreter": {
   "hash": "44a894102c3901818193032978ec66201d290822e5b0ca3f0ffa83df00b0a35a"
  },
  "kernelspec": {
   "display_name": "Python 3.8.12 ('ds_study')",
   "language": "python",
   "name": "python3"
  },
  "language_info": {
   "codemirror_mode": {
    "name": "ipython",
    "version": 3
   },
   "file_extension": ".py",
   "mimetype": "text/x-python",
   "name": "python",
   "nbconvert_exporter": "python",
   "pygments_lexer": "ipython3",
   "version": "3.8.12"
  },
  "orig_nbformat": 4
 },
 "nbformat": 4,
 "nbformat_minor": 2
}
